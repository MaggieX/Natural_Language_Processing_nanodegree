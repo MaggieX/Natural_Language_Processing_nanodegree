{
 "cells": [
  {
   "cell_type": "markdown",
   "metadata": {},
   "source": [
    "# Text Processing\n",
    "\n",
    "## Capturing Text Data\n",
    "\n",
    "### Plain Text"
   ]
  },
  {
   "cell_type": "code",
   "execution_count": 1,
   "metadata": {},
   "outputs": [
    {
     "name": "stdout",
     "output_type": "stream",
     "text": [
      "Hieroglyphic writing dates from c. 3000 BC, and is composed of hundreds of symbols. A hieroglyph can represent a word, a sound, or a silent determinative; and the same symbol can serve different purposes in different contexts. Hieroglyphs were a formal script, used on stone monuments and in tombs, that could be as detailed as individual works of art.\n",
      "\n"
     ]
    }
   ],
   "source": [
    "import os\n",
    "\n",
    "# Read in a plain text file\n",
    "with open(os.path.join(\"data\", \"hieroglyph.txt\"), \"r\") as f:\n",
    "    text = f.read()\n",
    "    print(text)"
   ]
  },
  {
   "cell_type": "markdown",
   "metadata": {},
   "source": [
    "### Tabular Data"
   ]
  },
  {
   "cell_type": "code",
   "execution_count": 2,
   "metadata": {
    "scrolled": true
   },
   "outputs": [
    {
     "data": {
      "text/html": [
       "<div>\n",
       "<style scoped>\n",
       "    .dataframe tbody tr th:only-of-type {\n",
       "        vertical-align: middle;\n",
       "    }\n",
       "\n",
       "    .dataframe tbody tr th {\n",
       "        vertical-align: top;\n",
       "    }\n",
       "\n",
       "    .dataframe thead th {\n",
       "        text-align: right;\n",
       "    }\n",
       "</style>\n",
       "<table border=\"1\" class=\"dataframe\">\n",
       "  <thead>\n",
       "    <tr style=\"text-align: right;\">\n",
       "      <th></th>\n",
       "      <th>publisher</th>\n",
       "      <th>title</th>\n",
       "    </tr>\n",
       "  </thead>\n",
       "  <tbody>\n",
       "    <tr>\n",
       "      <th>0</th>\n",
       "      <td>Livemint</td>\n",
       "      <td>fed's charles plosser sees high bar for change...</td>\n",
       "    </tr>\n",
       "    <tr>\n",
       "      <th>1</th>\n",
       "      <td>IFA Magazine</td>\n",
       "      <td>us open: stocks fall after fed official hints ...</td>\n",
       "    </tr>\n",
       "    <tr>\n",
       "      <th>2</th>\n",
       "      <td>IFA Magazine</td>\n",
       "      <td>fed risks falling 'behind the curve', charles ...</td>\n",
       "    </tr>\n",
       "    <tr>\n",
       "      <th>3</th>\n",
       "      <td>Moneynews</td>\n",
       "      <td>fed's plosser: nasty weather has curbed job gr...</td>\n",
       "    </tr>\n",
       "    <tr>\n",
       "      <th>4</th>\n",
       "      <td>NASDAQ</td>\n",
       "      <td>plosser: fed may have to accelerate tapering pace</td>\n",
       "    </tr>\n",
       "  </tbody>\n",
       "</table>\n",
       "</div>"
      ],
      "text/plain": [
       "      publisher                                              title\n",
       "0      Livemint  fed's charles plosser sees high bar for change...\n",
       "1  IFA Magazine  us open: stocks fall after fed official hints ...\n",
       "2  IFA Magazine  fed risks falling 'behind the curve', charles ...\n",
       "3     Moneynews  fed's plosser: nasty weather has curbed job gr...\n",
       "4        NASDAQ  plosser: fed may have to accelerate tapering pace"
      ]
     },
     "execution_count": 2,
     "metadata": {},
     "output_type": "execute_result"
    }
   ],
   "source": [
    "import pandas as pd\n",
    "\n",
    "# Extract text column from a dataframe\n",
    "df = pd.read_csv(os.path.join(\"data\", \"news.csv\"))\n",
    "df.head()[['publisher', 'title']]\n",
    "\n",
    "# Convert text column to lowercase\n",
    "df['title'] = df['title'].str.lower()\n",
    "df.head()[['publisher', 'title']]"
   ]
  },
  {
   "cell_type": "markdown",
   "metadata": {},
   "source": [
    "### Online Resource"
   ]
  },
  {
   "cell_type": "code",
   "execution_count": 3,
   "metadata": {
    "scrolled": true
   },
   "outputs": [
    {
     "name": "stdout",
     "output_type": "stream",
     "text": [
      "{\n",
      "    \"success\": {\n",
      "        \"total\": 1\n",
      "    },\n",
      "    \"contents\": {\n",
      "        \"quotes\": [\n",
      "            {\n",
      "                \"quote\": \"You know what it's like to wake up in the middle of the night with a vivid dream? And you know that if you don't have a pencil and pad by the bed, it will be completely gone by the next morning. Sometimes it's important to wake up and stop dreaming. When a really great dream shows up, grab it.\",\n",
      "                \"length\": \"315\",\n",
      "                \"author\": \"Larry Page\",\n",
      "                \"tags\": [\n",
      "                    \"dream\",\n",
      "                    \"inspire\"\n",
      "                ],\n",
      "                \"category\": \"inspire\",\n",
      "                \"language\": \"en\",\n",
      "                \"date\": \"2021-04-02\",\n",
      "                \"permalink\": \"https://theysaidso.com/quote/larry-page-you-know-what-its-like-to-wake-up-in-the-middle-of-the-night-with-a-v\",\n",
      "                \"id\": \"RTRrHWNXzy7gskIwjyFL1weF\",\n",
      "                \"background\": \"https://theysaidso.com/img/qod/qod-inspire.jpg\",\n",
      "                \"title\": \"Inspiring Quote of the day\"\n",
      "            }\n",
      "        ]\n",
      "    },\n",
      "    \"baseurl\": \"https://theysaidso.com\",\n",
      "    \"copyright\": {\n",
      "        \"year\": 2023,\n",
      "        \"url\": \"https://theysaidso.com\"\n",
      "    }\n",
      "}\n",
      "You know what it's like to wake up in the middle of the night with a vivid dream? And you know that if you don't have a pencil and pad by the bed, it will be completely gone by the next morning. Sometimes it's important to wake up and stop dreaming. When a really great dream shows up, grab it. \n",
      "-- Larry Page\n"
     ]
    }
   ],
   "source": [
    "import requests\n",
    "import json\n",
    "\n",
    "# Fetch data from a REST API\n",
    "r = requests.get(\n",
    "    \"https://quotes.rest/qod.json\")\n",
    "res = r.json()\n",
    "print(json.dumps(res, indent=4))\n",
    "\n",
    "# Extract relevant object and field\n",
    "q = res[\"contents\"][\"quotes\"][0]\n",
    "print(q[\"quote\"], \"\\n--\", q[\"author\"])"
   ]
  },
  {
   "cell_type": "markdown",
   "metadata": {},
   "source": [
    "## Cleaning"
   ]
  },
  {
   "cell_type": "code",
   "execution_count": 4,
   "metadata": {
    "scrolled": true
   },
   "outputs": [
    {
     "name": "stdout",
     "output_type": "stream",
     "text": [
      "<html lang=\"en\" op=\"news\"><head><meta name=\"referrer\" content=\"origin\"><meta name=\"viewport\" content=\"width=device-width, initial-scale=1.0\"><link rel=\"stylesheet\" type=\"text/css\" href=\"news.css?g6QC6yILctWa5ODSvAyA\">\n",
      "        <link rel=\"shortcut icon\" href=\"favicon.ico\">\n",
      "          <link rel=\"alternate\" type=\"application/rss+xml\" title=\"RSS\" href=\"rss\">\n",
      "        <title>Hacker News</title></head><body><center><table id=\"hnmain\" border=\"0\" cellpadding=\"0\" cellspacing=\"0\" width=\"85%\" bgcolor=\"#f6f6ef\">\n",
      "        <tr><td bgcolor=\"#ff6600\"><table border=\"0\" cellpadding=\"0\" cellspacing=\"0\" width=\"100%\" style=\"padding:2px\"><tr><td style=\"width:18px;padding-right:4px\"><a href=\"https://news.ycombinator.com\"><img src=\"y18.gif\" width=\"18\" height=\"18\" style=\"border:1px white solid;\"></a></td>\n",
      "                  <td style=\"line-height:12pt; height:10px;\"><span class=\"pagetop\"><b class=\"hnname\"><a href=\"news\">Hacker News</a></b>\n",
      "              <a href=\"newest\">new</a> | <a href=\"front\">past</a> | <a href=\"newcomments\">comments</a> | <a href=\"ask\">ask</a> | <a href=\"show\">show</a> | <a href=\"jobs\">jobs</a> | <a href=\"submit\">submit</a>            </span></td><td style=\"text-align:right;padding-right:4px;\"><span class=\"pagetop\">\n",
      "                              <a href=\"login?goto=news\">login</a>\n",
      "                          </span></td>\n",
      "              </tr></table></td></tr>\n",
      "<tr id=\"pagespace\" title=\"\" style=\"height:10px\"></tr><tr><td><table border=\"0\" cellpadding=\"0\" cellspacing=\"0\" class=\"itemlist\">\n",
      "              <tr class='athing' id='26644838'>\n",
      "      <td align=\"right\" valign=\"top\" class=\"title\"><span class=\"rank\">1.</span></td>      <td valign=\"top\" class=\"votelinks\"><center><a id='up_26644838' href='vote?id=26644838&amp;how=up&amp;goto=news'><div class='votearrow' title='upvote'></div></a></center></td><td class=\"title\"><a href=\"https://nickdrozd.github.io/2021/03/30/signed-char-lotte.html\" class=\"storylink\">Signed Char Lotte</a><span class=\"sitebit comhead\"> (<a href=\"from?site=nickdrozd.github.io\"><span class=\"sitestr\">nickdrozd.github.io</span></a>)</span></td></tr><tr><td colspan=\"2\"></td><td class=\"subtext\">\n",
      "        <span class=\"score\" id=\"score_26644838\">437 points</span> by <a href=\"user?id=signa11\" class=\"hnuser\">signa11</a> <span class=\"age\"><a href=\"item?id=26644838\">6 hours ago</a></span> <span id=\"unv_26644838\"></span> | <a href=\"hide?id=26644838&amp;goto=news\">hide</a> | <a href=\"item?id=26644838\">53&nbsp;comments</a>              </td></tr>\n",
      "      <tr class=\"spacer\" style=\"height:5px\"></tr>\n",
      "                <tr class='athing' id='26664714'>\n",
      "      <td align=\"right\" valign=\"top\" class=\"title\"><span class=\"rank\">2.</span></td>      <td valign=\"top\" class=\"votelinks\"><center><a id='up_26664714' href='vote?id=26664714&amp;how=up&amp;goto=news'><div class='votearrow' title='upvote'></div></a></center></td><td class=\"title\"><a href=\"https://mikko-kenttala.medium.com/zero-click-vulnerability-in-apples-macos-mail-59e0c14b106c\" class=\"storylink\">Zero click vulnerability in Apple’s macOS Mail</a><span class=\"sitebit comhead\"> (<a href=\"from?site=mikko-kenttala.medium.com\"><span class=\"sitestr\">mikko-kenttala.medium.com</span></a>)</span></td></tr><tr><td colspan=\"2\"></td><td class=\"subtext\">\n",
      "        <span class=\"score\" id=\"score_26664714\">187 points</span> by <a href=\"user?id=jviide\" class=\"hnuser\">jviide</a> <span class=\"age\"><a href=\"item?id=26664714\">5 hours ago</a></span> <span id=\"unv_26664714\"></span> | <a href=\"hide?id=26664714&amp;goto=news\">hide</a> | <a href=\"item?id=26664714\">117&nbsp;comments</a>              </td></tr>\n",
      "      <tr class=\"spacer\" style=\"height:5px\"></tr>\n",
      "                <tr class='athing' id='26667037'>\n",
      "      <td align=\"right\" valign=\"top\" class=\"title\"><span class=\"rank\">3.</span></td>      <td valign=\"top\" class=\"votelinks\"><center><a id='up_26667037' href='vote?id=26667037&amp;how=up&amp;goto=news'><div class='votearrow' title='upvote'></div></a></center></td><td class=\"title\"><a href=\"https://www.nature.com/articles/s41398-021-01309-7\" class=\"storylink\">Gut microbial taxa elevated by dietary sugar disrupt memory function</a><span class=\"sitebit comhead\"> (<a href=\"from?site=nature.com\"><span class=\"sitestr\">nature.com</span></a>)</span></td></tr><tr><td colspan=\"2\"></td><td class=\"subtext\">\n",
      "        <span class=\"score\" id=\"score_26667037\">38 points</span> by <a href=\"user?id=AnonymousOne\" class=\"hnuser\">AnonymousOne</a> <span class=\"age\"><a href=\"item?id=26667037\">1 hour ago</a></span> <span id=\"unv_26667037\"></span> | <a href=\"hide?id=26667037&amp;goto=news\">hide</a> | <a href=\"item?id=26667037\">7&nbsp;comments</a>              </td></tr>\n",
      "      <tr class=\"spacer\" style=\"height:5px\"></tr>\n",
      "                <tr class='athing' id='26664361'>\n",
      "      <td align=\"right\" valign=\"top\" class=\"title\"><span class=\"rank\">4.</span></td>      <td valign=\"top\" class=\"votelinks\"><center><a id='up_26664361' href='vote?id=26664361&amp;how=up&amp;goto=news'><div class='votearrow' title='upvote'></div></a></center></td><td class=\"title\"><a href=\"https://marc.info/?l=openbsd-cvs&amp;m=161730046519995\" class=\"storylink\">OpenBSD Adds Support for Coordinated Mars Time (MTC)</a><span class=\"sitebit comhead\"> (<a href=\"from?site=marc.info\"><span class=\"sitestr\">marc.info</span></a>)</span></td></tr><tr><td colspan=\"2\"></td><td class=\"subtext\">\n",
      "        <span class=\"score\" id=\"score_26664361\">157 points</span> by <a href=\"user?id=dbolgheroni\" class=\"hnuser\">dbolgheroni</a> <span class=\"age\"><a href=\"item?id=26664361\">5 hours ago</a></span> <span id=\"unv_26664361\"></span> | <a href=\"hide?id=26664361&amp;goto=news\">hide</a> | <a href=\"item?id=26664361\">72&nbsp;comments</a>              </td></tr>\n",
      "      <tr class=\"spacer\" style=\"height:5px\"></tr>\n",
      "                <tr class='athing' id='26661443'>\n",
      "      <td align=\"right\" valign=\"top\" class=\"title\"><span class=\"rank\">5.</span></td>      <td valign=\"top\" class=\"votelinks\"><center><a id='up_26661443' href='vote?id=26661443&amp;how=up&amp;goto=news'><div class='votearrow' title='upvote'></div></a></center></td><td class=\"title\"><a href=\"item?id=26661443\" class=\"storylink\">Ask HN: Who is hiring? (April 2021)</a></td></tr><tr><td colspan=\"2\"></td><td class=\"subtext\">\n",
      "        <span class=\"score\" id=\"score_26661443\">305 points</span> by <a href=\"user?id=whoishiring\" class=\"hnuser\">whoishiring</a> <span class=\"age\"><a href=\"item?id=26661443\">9 hours ago</a></span> <span id=\"unv_26661443\"></span> | <a href=\"hide?id=26661443&amp;goto=news\">hide</a> | <a href=\"item?id=26661443\">688&nbsp;comments</a>              </td></tr>\n",
      "      <tr class=\"spacer\" style=\"height:5px\"></tr>\n",
      "                <tr class='athing' id='26666461'>\n",
      "      <td align=\"right\" valign=\"top\" class=\"title\"><span class=\"rank\">6.</span></td>      <td valign=\"top\" class=\"votelinks\"><center><a id='up_26666461' href='vote?id=26666461&amp;how=up&amp;goto=news'><div class='votearrow' title='upvote'></div></a></center></td><td class=\"title\"><a href=\"https://www.rfc-editor.org/rfc/rfc8962.txt\" class=\"storylink\">RFC8962: Establishing the Protocol Police</a><span class=\"sitebit comhead\"> (<a href=\"from?site=rfc-editor.org\"><span class=\"sitestr\">rfc-editor.org</span></a>)</span></td></tr><tr><td colspan=\"2\"></td><td class=\"subtext\">\n",
      "        <span class=\"score\" id=\"score_26666461\">33 points</span> by <a href=\"user?id=virgulino\" class=\"hnuser\">virgulino</a> <span class=\"age\"><a href=\"item?id=26666461\">2 hours ago</a></span> <span id=\"unv_26666461\"></span> | <a href=\"hide?id=26666461&amp;goto=news\">hide</a> | <a href=\"item?id=26666461\">9&nbsp;comments</a>              </td></tr>\n",
      "      <tr class=\"spacer\" style=\"height:5px\"></tr>\n",
      "                <tr class='athing' id='26666585'>\n",
      "      <td align=\"right\" valign=\"top\" class=\"title\"><span class=\"rank\">7.</span></td>      <td valign=\"top\" class=\"votelinks\"><center><a id='up_26666585' href='vote?id=26666585&amp;how=up&amp;goto=news'><div class='votearrow' title='upvote'></div></a></center></td><td class=\"title\"><a href=\"https://status2.azure.com/\" class=\"storylink\">MS Azure down: An emerging issue is being investigated</a><span class=\"sitebit comhead\"> (<a href=\"from?site=azure.com\"><span class=\"sitestr\">azure.com</span></a>)</span></td></tr><tr><td colspan=\"2\"></td><td class=\"subtext\">\n",
      "        <span class=\"score\" id=\"score_26666585\">154 points</span> by <a href=\"user?id=williamscales\" class=\"hnuser\">williamscales</a> <span class=\"age\"><a href=\"item?id=26666585\">2 hours ago</a></span> <span id=\"unv_26666585\"></span> | <a href=\"hide?id=26666585&amp;goto=news\">hide</a> | <a href=\"item?id=26666585\">76&nbsp;comments</a>              </td></tr>\n",
      "      <tr class=\"spacer\" style=\"height:5px\"></tr>\n",
      "                <tr class='athing' id='26663135'>\n",
      "      <td align=\"right\" valign=\"top\" class=\"title\"><span class=\"rank\">8.</span></td>      <td valign=\"top\" class=\"votelinks\"><center><a id='up_26663135' href='vote?id=26663135&amp;how=up&amp;goto=news'><div class='votearrow' title='upvote'></div></a></center></td><td class=\"title\"><a href=\"https://github.com/bash-lsp/bash-language-server\" class=\"storylink\">Bash-LSP: A language server for Bash</a><span class=\"sitebit comhead\"> (<a href=\"from?site=github.com/bash-lsp\"><span class=\"sitestr\">github.com/bash-lsp</span></a>)</span></td></tr><tr><td colspan=\"2\"></td><td class=\"subtext\">\n",
      "        <span class=\"score\" id=\"score_26663135\">133 points</span> by <a href=\"user?id=ducktective\" class=\"hnuser\">ducktective</a> <span class=\"age\"><a href=\"item?id=26663135\">7 hours ago</a></span> <span id=\"unv_26663135\"></span> | <a href=\"hide?id=26663135&amp;goto=news\">hide</a> | <a href=\"item?id=26663135\">56&nbsp;comments</a>              </td></tr>\n",
      "      <tr class=\"spacer\" style=\"height:5px\"></tr>\n",
      "                <tr class='athing' id='26665387'>\n",
      "      <td align=\"right\" valign=\"top\" class=\"title\"><span class=\"rank\">9.</span></td>      <td valign=\"top\" class=\"votelinks\"><center><a id='up_26665387' href='vote?id=26665387&amp;how=up&amp;goto=news'><div class='votearrow' title='upvote'></div></a></center></td><td class=\"title\"><a href=\"https://docs.racket-lang.org/goblins/\" class=\"storylink\">Goblins: A transactional, distributed actor model environment</a><span class=\"sitebit comhead\"> (<a href=\"from?site=racket-lang.org\"><span class=\"sitestr\">racket-lang.org</span></a>)</span></td></tr><tr><td colspan=\"2\"></td><td class=\"subtext\">\n",
      "        <span class=\"score\" id=\"score_26665387\">55 points</span> by <a href=\"user?id=snicker7\" class=\"hnuser\">snicker7</a> <span class=\"age\"><a href=\"item?id=26665387\">4 hours ago</a></span> <span id=\"unv_26665387\"></span> | <a href=\"hide?id=26665387&amp;goto=news\">hide</a> | <a href=\"item?id=26665387\">6&nbsp;comments</a>              </td></tr>\n",
      "      <tr class=\"spacer\" style=\"height:5px\"></tr>\n",
      "                <tr class='athing' id='26643812'>\n",
      "      <td align=\"right\" valign=\"top\" class=\"title\"><span class=\"rank\">10.</span></td>      <td valign=\"top\" class=\"votelinks\"><center><a id='up_26643812' href='vote?id=26643812&amp;how=up&amp;goto=news'><div class='votearrow' title='upvote'></div></a></center></td><td class=\"title\"><a href=\"https://www.quantamagazine.org/mathematicians-find-a-new-class-of-digitally-delicate-primes-20210330/\" class=\"storylink\">Mathematicians Find a New Class of Digitally Delicate Primes</a><span class=\"sitebit comhead\"> (<a href=\"from?site=quantamagazine.org\"><span class=\"sitestr\">quantamagazine.org</span></a>)</span></td></tr><tr><td colspan=\"2\"></td><td class=\"subtext\">\n",
      "        <span class=\"score\" id=\"score_26643812\">84 points</span> by <a href=\"user?id=susam\" class=\"hnuser\">susam</a> <span class=\"age\"><a href=\"item?id=26643812\">6 hours ago</a></span> <span id=\"unv_26643812\"></span> | <a href=\"hide?id=26643812&amp;goto=news\">hide</a> | <a href=\"item?id=26643812\">37&nbsp;comments</a>              </td></tr>\n",
      "      <tr class=\"spacer\" style=\"height:5px\"></tr>\n",
      "                <tr class='athing' id='26649506'>\n",
      "      <td align=\"right\" valign=\"top\" class=\"title\"><span class=\"rank\">11.</span></td>      <td valign=\"top\" class=\"votelinks\"><center><a id='up_26649506' href='vote?id=26649506&amp;how=up&amp;goto=news'><div class='votearrow' title='upvote'></div></a></center></td><td class=\"title\"><a href=\"https://en.wikipedia.org/wiki/List_of_proposed_etymologies_of_OK\" class=\"storylink\">List of Proposed Etymologies of OK</a><span class=\"sitebit comhead\"> (<a href=\"from?site=wikipedia.org\"><span class=\"sitestr\">wikipedia.org</span></a>)</span></td></tr><tr><td colspan=\"2\"></td><td class=\"subtext\">\n",
      "        <span class=\"score\" id=\"score_26649506\">12 points</span> by <a href=\"user?id=benbreen\" class=\"hnuser\">benbreen</a> <span class=\"age\"><a href=\"item?id=26649506\">1 hour ago</a></span> <span id=\"unv_26649506\"></span> | <a href=\"hide?id=26649506&amp;goto=news\">hide</a> | <a href=\"item?id=26649506\">3&nbsp;comments</a>              </td></tr>\n",
      "      <tr class=\"spacer\" style=\"height:5px\"></tr>\n",
      "                <tr class='athing' id='26665964'>\n",
      "      <td align=\"right\" valign=\"top\" class=\"title\"><span class=\"rank\">12.</span></td>      <td></td><td class=\"title\"><a href=\"https://www.navattic.com/join-us\" class=\"storylink\" rel=\"nofollow\">Navattic (YC W21) Is Hiring a Lead Engineer</a><span class=\"sitebit comhead\"> (<a href=\"from?site=navattic.com\"><span class=\"sitestr\">navattic.com</span></a>)</span></td></tr><tr><td colspan=\"2\"></td><td class=\"subtext\">\n",
      "        <span class=\"age\"><a href=\"item?id=26665964\">3 hours ago</a></span> | <a href=\"hide?id=26665964&amp;goto=news\">hide</a>      </td></tr>\n",
      "      <tr class=\"spacer\" style=\"height:5px\"></tr>\n",
      "                <tr class='athing' id='26659553'>\n",
      "      <td align=\"right\" valign=\"top\" class=\"title\"><span class=\"rank\">13.</span></td>      <td valign=\"top\" class=\"votelinks\"><center><a id='up_26659553' href='vote?id=26659553&amp;how=up&amp;goto=news'><div class='votearrow' title='upvote'></div></a></center></td><td class=\"title\"><a href=\"https://mailstudio.app/\" class=\"storylink\">Show HN: Mail Studio – IDE for designing responsive emails</a><span class=\"sitebit comhead\"> (<a href=\"from?site=mailstudio.app\"><span class=\"sitestr\">mailstudio.app</span></a>)</span></td></tr><tr><td colspan=\"2\"></td><td class=\"subtext\">\n",
      "        <span class=\"score\" id=\"score_26659553\">320 points</span> by <a href=\"user?id=martinaglv\" class=\"hnuser\">martinaglv</a> <span class=\"age\"><a href=\"item?id=26659553\">11 hours ago</a></span> <span id=\"unv_26659553\"></span> | <a href=\"hide?id=26659553&amp;goto=news\">hide</a> | <a href=\"item?id=26659553\">178&nbsp;comments</a>              </td></tr>\n",
      "      <tr class=\"spacer\" style=\"height:5px\"></tr>\n",
      "                <tr class='athing' id='26665431'>\n",
      "      <td align=\"right\" valign=\"top\" class=\"title\"><span class=\"rank\">14.</span></td>      <td valign=\"top\" class=\"votelinks\"><center><a id='up_26665431' href='vote?id=26665431&amp;how=up&amp;goto=news'><div class='votearrow' title='upvote'></div></a></center></td><td class=\"title\"><a href=\"https://blog.coinbase.com/coinbase-announces-effectiveness-of-registration-statement-and-anticipated-listing-date-of-its-1509b281f760\" class=\"storylink\">Coinbase Announces Listing Date of Its Stock on the Nasdaq</a><span class=\"sitebit comhead\"> (<a href=\"from?site=coinbase.com\"><span class=\"sitestr\">coinbase.com</span></a>)</span></td></tr><tr><td colspan=\"2\"></td><td class=\"subtext\">\n",
      "        <span class=\"score\" id=\"score_26665431\">99 points</span> by <a href=\"user?id=esalazar\" class=\"hnuser\">esalazar</a> <span class=\"age\"><a href=\"item?id=26665431\">4 hours ago</a></span> <span id=\"unv_26665431\"></span> | <a href=\"hide?id=26665431&amp;goto=news\">hide</a> | <a href=\"item?id=26665431\">91&nbsp;comments</a>              </td></tr>\n",
      "      <tr class=\"spacer\" style=\"height:5px\"></tr>\n",
      "                <tr class='athing' id='26644833'>\n",
      "      <td align=\"right\" valign=\"top\" class=\"title\"><span class=\"rank\">15.</span></td>      <td valign=\"top\" class=\"votelinks\"><center><a id='up_26644833' href='vote?id=26644833&amp;how=up&amp;goto=news'><div class='votearrow' title='upvote'></div></a></center></td><td class=\"title\"><a href=\"https://css-tricks.com/tools-for-auditing-css/\" class=\"storylink\">Tools for Auditing CSS</a><span class=\"sitebit comhead\"> (<a href=\"from?site=css-tricks.com\"><span class=\"sitestr\">css-tricks.com</span></a>)</span></td></tr><tr><td colspan=\"2\"></td><td class=\"subtext\">\n",
      "        <span class=\"score\" id=\"score_26644833\">20 points</span> by <a href=\"user?id=starbist\" class=\"hnuser\">starbist</a> <span class=\"age\"><a href=\"item?id=26644833\">3 hours ago</a></span> <span id=\"unv_26644833\"></span> | <a href=\"hide?id=26644833&amp;goto=news\">hide</a> | <a href=\"item?id=26644833\">5&nbsp;comments</a>              </td></tr>\n",
      "      <tr class=\"spacer\" style=\"height:5px\"></tr>\n",
      "                <tr class='athing' id='26662985'>\n",
      "      <td align=\"right\" valign=\"top\" class=\"title\"><span class=\"rank\">16.</span></td>      <td valign=\"top\" class=\"votelinks\"><center><a id='up_26662985' href='vote?id=26662985&amp;how=up&amp;goto=news'><div class='votearrow' title='upvote'></div></a></center></td><td class=\"title\"><a href=\"https://buzzsumo.com/resources/hundred-million-best-headlines-study/\" class=\"storylink\">100M Posts Analyzed: What You Need to Write the Best Headlines</a><span class=\"sitebit comhead\"> (<a href=\"from?site=buzzsumo.com\"><span class=\"sitestr\">buzzsumo.com</span></a>)</span></td></tr><tr><td colspan=\"2\"></td><td class=\"subtext\">\n",
      "        <span class=\"score\" id=\"score_26662985\">120 points</span> by <a href=\"user?id=vitabenes\" class=\"hnuser\">vitabenes</a> <span class=\"age\"><a href=\"item?id=26662985\">7 hours ago</a></span> <span id=\"unv_26662985\"></span> | <a href=\"hide?id=26662985&amp;goto=news\">hide</a> | <a href=\"item?id=26662985\">72&nbsp;comments</a>              </td></tr>\n",
      "      <tr class=\"spacer\" style=\"height:5px\"></tr>\n",
      "                <tr class='athing' id='26665469'>\n",
      "      <td align=\"right\" valign=\"top\" class=\"title\"><span class=\"rank\">17.</span></td>      <td valign=\"top\" class=\"votelinks\"><center><a id='up_26665469' href='vote?id=26665469&amp;how=up&amp;goto=news'><div class='votearrow' title='upvote'></div></a></center></td><td class=\"title\"><a href=\"https://blog.archive.org/2021/04/01/filecoin-foundation-grants-50000-fil-to-the-internet-archive/\" class=\"storylink\">Filecoin Foundation Grants 50k FIL to the Internet Archive</a><span class=\"sitebit comhead\"> (<a href=\"from?site=archive.org\"><span class=\"sitestr\">archive.org</span></a>)</span></td></tr><tr><td colspan=\"2\"></td><td class=\"subtext\">\n",
      "        <span class=\"score\" id=\"score_26665469\">96 points</span> by <a href=\"user?id=toomuchtodo\" class=\"hnuser\">toomuchtodo</a> <span class=\"age\"><a href=\"item?id=26665469\">4 hours ago</a></span> <span id=\"unv_26665469\"></span> | <a href=\"hide?id=26665469&amp;goto=news\">hide</a> | <a href=\"item?id=26665469\">86&nbsp;comments</a>              </td></tr>\n",
      "      <tr class=\"spacer\" style=\"height:5px\"></tr>\n",
      "                <tr class='athing' id='26660154'>\n",
      "      <td align=\"right\" valign=\"top\" class=\"title\"><span class=\"rank\">18.</span></td>      <td valign=\"top\" class=\"votelinks\"><center><a id='up_26660154' href='vote?id=26660154&amp;how=up&amp;goto=news'><div class='votearrow' title='upvote'></div></a></center></td><td class=\"title\"><a href=\"https://www.openttd.org/news/2021/04/01/openttd-1-11-0.html\" class=\"storylink\">OpenTTD 1.11.0</a><span class=\"sitebit comhead\"> (<a href=\"from?site=openttd.org\"><span class=\"sitestr\">openttd.org</span></a>)</span></td></tr><tr><td colspan=\"2\"></td><td class=\"subtext\">\n",
      "        <span class=\"score\" id=\"score_26660154\">193 points</span> by <a href=\"user?id=app4soft\" class=\"hnuser\">app4soft</a> <span class=\"age\"><a href=\"item?id=26660154\">10 hours ago</a></span> <span id=\"unv_26660154\"></span> | <a href=\"hide?id=26660154&amp;goto=news\">hide</a> | <a href=\"item?id=26660154\">34&nbsp;comments</a>              </td></tr>\n",
      "      <tr class=\"spacer\" style=\"height:5px\"></tr>\n",
      "                <tr class='athing' id='26664976'>\n",
      "      <td align=\"right\" valign=\"top\" class=\"title\"><span class=\"rank\">19.</span></td>      <td valign=\"top\" class=\"votelinks\"><center><a id='up_26664976' href='vote?id=26664976&amp;how=up&amp;goto=news'><div class='votearrow' title='upvote'></div></a></center></td><td class=\"title\"><a href=\"https://shopify.engineering/evaluating-search-algorithms\" class=\"storylink\">Evaluating Search Algorithms</a><span class=\"sitebit comhead\"> (<a href=\"from?site=shopify.engineering\"><span class=\"sitestr\">shopify.engineering</span></a>)</span></td></tr><tr><td colspan=\"2\"></td><td class=\"subtext\">\n",
      "        <span class=\"score\" id=\"score_26664976\">51 points</span> by <a href=\"user?id=clandry94\" class=\"hnuser\">clandry94</a> <span class=\"age\"><a href=\"item?id=26664976\">4 hours ago</a></span> <span id=\"unv_26664976\"></span> | <a href=\"hide?id=26664976&amp;goto=news\">hide</a> | <a href=\"item?id=26664976\">7&nbsp;comments</a>              </td></tr>\n",
      "      <tr class=\"spacer\" style=\"height:5px\"></tr>\n",
      "                <tr class='athing' id='26658834'>\n",
      "      <td align=\"right\" valign=\"top\" class=\"title\"><span class=\"rank\">20.</span></td>      <td valign=\"top\" class=\"votelinks\"><center><a id='up_26658834' href='vote?id=26658834&amp;how=up&amp;goto=news'><div class='votearrow' title='upvote'></div></a></center></td><td class=\"title\"><a href=\"https://nautil.us/issue/98/mind/the-trouble-with-brain-scans\" class=\"storylink\">The Trouble with Brain Scans</a><span class=\"sitebit comhead\"> (<a href=\"from?site=nautil.us\"><span class=\"sitestr\">nautil.us</span></a>)</span></td></tr><tr><td colspan=\"2\"></td><td class=\"subtext\">\n",
      "        <span class=\"score\" id=\"score_26658834\">25 points</span> by <a href=\"user?id=dnetesn\" class=\"hnuser\">dnetesn</a> <span class=\"age\"><a href=\"item?id=26658834\">3 hours ago</a></span> <span id=\"unv_26658834\"></span> | <a href=\"hide?id=26658834&amp;goto=news\">hide</a> | <a href=\"item?id=26658834\">8&nbsp;comments</a>              </td></tr>\n",
      "      <tr class=\"spacer\" style=\"height:5px\"></tr>\n",
      "                <tr class='athing' id='26667280'>\n",
      "      <td align=\"right\" valign=\"top\" class=\"title\"><span class=\"rank\">21.</span></td>      <td valign=\"top\" class=\"votelinks\"><center><a id='up_26667280' href='vote?id=26667280&amp;how=up&amp;goto=news'><div class='votearrow' title='upvote'></div></a></center></td><td class=\"title\"><a href=\"https://www.creodocs.com\" class=\"storylink\" rel=\"nofollow\">Show HN: I built Creodocs, a document creation platform based on LaTeX</a><span class=\"sitebit comhead\"> (<a href=\"from?site=creodocs.com\"><span class=\"sitestr\">creodocs.com</span></a>)</span></td></tr><tr><td colspan=\"2\"></td><td class=\"subtext\">\n",
      "        <span class=\"score\" id=\"score_26667280\">15 points</span> by <a href=\"user?id=VelNZ\" class=\"hnuser\">VelNZ</a> <span class=\"age\"><a href=\"item?id=26667280\">1 hour ago</a></span> <span id=\"unv_26667280\"></span> | <a href=\"hide?id=26667280&amp;goto=news\">hide</a> | <a href=\"item?id=26667280\">1&nbsp;comment</a>              </td></tr>\n",
      "      <tr class=\"spacer\" style=\"height:5px\"></tr>\n",
      "                <tr class='athing' id='26661279'>\n",
      "      <td align=\"right\" valign=\"top\" class=\"title\"><span class=\"rank\">22.</span></td>      <td valign=\"top\" class=\"votelinks\"><center><a id='up_26661279' href='vote?id=26661279&amp;how=up&amp;goto=news'><div class='votearrow' title='upvote'></div></a></center></td><td class=\"title\"><a href=\"item?id=26661279\" class=\"storylink\">Ask HN: Who wants to be hired? (April 2021)</a></td></tr><tr><td colspan=\"2\"></td><td class=\"subtext\">\n",
      "        <span class=\"score\" id=\"score_26661279\">123 points</span> by <a href=\"user?id=whoishiring\" class=\"hnuser\">whoishiring</a> <span class=\"age\"><a href=\"item?id=26661279\">9 hours ago</a></span> <span id=\"unv_26661279\"></span> | <a href=\"hide?id=26661279&amp;goto=news\">hide</a> | <a href=\"item?id=26661279\">136&nbsp;comments</a>              </td></tr>\n",
      "      <tr class=\"spacer\" style=\"height:5px\"></tr>\n",
      "                <tr class='athing' id='26644616'>\n",
      "      <td align=\"right\" valign=\"top\" class=\"title\"><span class=\"rank\">23.</span></td>      <td valign=\"top\" class=\"votelinks\"><center><a id='up_26644616' href='vote?id=26644616&amp;how=up&amp;goto=news'><div class='votearrow' title='upvote'></div></a></center></td><td class=\"title\"><a href=\"item?id=26644616\" class=\"storylink\">Ask HN: Where do you find potential customers to validate your idea / MVP?</a></td></tr><tr><td colspan=\"2\"></td><td class=\"subtext\">\n",
      "        <span class=\"score\" id=\"score_26644616\">206 points</span> by <a href=\"user?id=showsover\" class=\"hnuser\">showsover</a> <span class=\"age\"><a href=\"item?id=26644616\">10 hours ago</a></span> <span id=\"unv_26644616\"></span> | <a href=\"hide?id=26644616&amp;goto=news\">hide</a> | <a href=\"item?id=26644616\">80&nbsp;comments</a>              </td></tr>\n",
      "      <tr class=\"spacer\" style=\"height:5px\"></tr>\n",
      "                <tr class='athing' id='26645019'>\n",
      "      <td align=\"right\" valign=\"top\" class=\"title\"><span class=\"rank\">24.</span></td>      <td valign=\"top\" class=\"votelinks\"><center><a id='up_26645019' href='vote?id=26645019&amp;how=up&amp;goto=news'><div class='votearrow' title='upvote'></div></a></center></td><td class=\"title\"><a href=\"https://dutchreview.com/news/fish-doorbell-utrecht/\" class=\"storylink\">Fish Doorbell</a><span class=\"sitebit comhead\"> (<a href=\"from?site=dutchreview.com\"><span class=\"sitestr\">dutchreview.com</span></a>)</span></td></tr><tr><td colspan=\"2\"></td><td class=\"subtext\">\n",
      "        <span class=\"score\" id=\"score_26645019\">86 points</span> by <a href=\"user?id=yamman\" class=\"hnuser\">yamman</a> <span class=\"age\"><a href=\"item?id=26645019\">8 hours ago</a></span> <span id=\"unv_26645019\"></span> | <a href=\"hide?id=26645019&amp;goto=news\">hide</a> | <a href=\"item?id=26645019\">27&nbsp;comments</a>              </td></tr>\n",
      "      <tr class=\"spacer\" style=\"height:5px\"></tr>\n",
      "                <tr class='athing' id='26664880'>\n",
      "      <td align=\"right\" valign=\"top\" class=\"title\"><span class=\"rank\">25.</span></td>      <td valign=\"top\" class=\"votelinks\"><center><a id='up_26664880' href='vote?id=26664880&amp;how=up&amp;goto=news'><div class='votearrow' title='upvote'></div></a></center></td><td class=\"title\"><a href=\"https://bugs.ruby-lang.org/issues/17768\" class=\"storylink\">Proposal: Downward Assignments</a><span class=\"sitebit comhead\"> (<a href=\"from?site=ruby-lang.org\"><span class=\"sitestr\">ruby-lang.org</span></a>)</span></td></tr><tr><td colspan=\"2\"></td><td class=\"subtext\">\n",
      "        <span class=\"score\" id=\"score_26664880\">45 points</span> by <a href=\"user?id=jbredeche\" class=\"hnuser\">jbredeche</a> <span class=\"age\"><a href=\"item?id=26664880\">4 hours ago</a></span> <span id=\"unv_26664880\"></span> | <a href=\"hide?id=26664880&amp;goto=news\">hide</a> | <a href=\"item?id=26664880\">20&nbsp;comments</a>              </td></tr>\n",
      "      <tr class=\"spacer\" style=\"height:5px\"></tr>\n",
      "                <tr class='athing' id='26666338'>\n",
      "      <td align=\"right\" valign=\"top\" class=\"title\"><span class=\"rank\">26.</span></td>      <td valign=\"top\" class=\"votelinks\"><center><a id='up_26666338' href='vote?id=26666338&amp;how=up&amp;goto=news'><div class='votearrow' title='upvote'></div></a></center></td><td class=\"title\"><a href=\"http://status.azure.com/\" class=\"storylink\">Azure is having DNS issues</a><span class=\"sitebit comhead\"> (<a href=\"from?site=azure.com\"><span class=\"sitestr\">azure.com</span></a>)</span></td></tr><tr><td colspan=\"2\"></td><td class=\"subtext\">\n",
      "        <span class=\"score\" id=\"score_26666338\">83 points</span> by <a href=\"user?id=ddb\" class=\"hnuser\">ddb</a> <span class=\"age\"><a href=\"item?id=26666338\">2 hours ago</a></span> <span id=\"unv_26666338\"></span> | <a href=\"hide?id=26666338&amp;goto=news\">hide</a> | <a href=\"item?id=26666338\">36&nbsp;comments</a>              </td></tr>\n",
      "      <tr class=\"spacer\" style=\"height:5px\"></tr>\n",
      "                <tr class='athing' id='26661223'>\n",
      "      <td align=\"right\" valign=\"top\" class=\"title\"><span class=\"rank\">27.</span></td>      <td valign=\"top\" class=\"votelinks\"><center><a id='up_26661223' href='vote?id=26661223&amp;how=up&amp;goto=news'><div class='votearrow' title='upvote'></div></a></center></td><td class=\"title\"><a href=\"https://github.com/simplenetes-io/simplenetes\" class=\"storylink\">Show HN: Simplenetes – I replaced Kubernetes with 17k lines of shell script</a><span class=\"sitebit comhead\"> (<a href=\"from?site=github.com/simplenetes-io\"><span class=\"sitestr\">github.com/simplenetes-io</span></a>)</span></td></tr><tr><td colspan=\"2\"></td><td class=\"subtext\">\n",
      "        <span class=\"score\" id=\"score_26661223\">132 points</span> by <a href=\"user?id=thomasbacklund\" class=\"hnuser\">thomasbacklund</a> <span class=\"age\"><a href=\"item?id=26661223\">9 hours ago</a></span> <span id=\"unv_26661223\"></span> | <a href=\"hide?id=26661223&amp;goto=news\">hide</a> | <a href=\"item?id=26661223\">91&nbsp;comments</a>              </td></tr>\n",
      "      <tr class=\"spacer\" style=\"height:5px\"></tr>\n",
      "                <tr class='athing' id='26658111'>\n",
      "      <td align=\"right\" valign=\"top\" class=\"title\"><span class=\"rank\">28.</span></td>      <td valign=\"top\" class=\"votelinks\"><center><a id='up_26658111' href='vote?id=26658111&amp;how=up&amp;goto=news'><div class='votearrow' title='upvote'></div></a></center></td><td class=\"title\"><a href=\"https://boris-marinov.github.io/category-theory-illustrated/04_order/\" class=\"storylink\">Category Theory: Orders</a><span class=\"sitebit comhead\"> (<a href=\"from?site=boris-marinov.github.io\"><span class=\"sitestr\">boris-marinov.github.io</span></a>)</span></td></tr><tr><td colspan=\"2\"></td><td class=\"subtext\">\n",
      "        <span class=\"score\" id=\"score_26658111\">189 points</span> by <a href=\"user?id=todsacerdoti\" class=\"hnuser\">todsacerdoti</a> <span class=\"age\"><a href=\"item?id=26658111\">15 hours ago</a></span> <span id=\"unv_26658111\"></span> | <a href=\"hide?id=26658111&amp;goto=news\">hide</a> | <a href=\"item?id=26658111\">45&nbsp;comments</a>              </td></tr>\n",
      "      <tr class=\"spacer\" style=\"height:5px\"></tr>\n",
      "                <tr class='athing' id='26665697'>\n",
      "      <td align=\"right\" valign=\"top\" class=\"title\"><span class=\"rank\">29.</span></td>      <td valign=\"top\" class=\"votelinks\"><center><a id='up_26665697' href='vote?id=26665697&amp;how=up&amp;goto=news'><div class='votearrow' title='upvote'></div></a></center></td><td class=\"title\"><a href=\"https://openmw.org/en/\" class=\"storylink\">OpenMW – open-source TES3 Morrowind reimplementation</a><span class=\"sitebit comhead\"> (<a href=\"from?site=openmw.org\"><span class=\"sitestr\">openmw.org</span></a>)</span></td></tr><tr><td colspan=\"2\"></td><td class=\"subtext\">\n",
      "        <span class=\"score\" id=\"score_26665697\">14 points</span> by <a href=\"user?id=agluszak\" class=\"hnuser\">agluszak</a> <span class=\"age\"><a href=\"item?id=26665697\">3 hours ago</a></span> <span id=\"unv_26665697\"></span> | <a href=\"hide?id=26665697&amp;goto=news\">hide</a> | <a href=\"item?id=26665697\">discuss</a>              </td></tr>\n",
      "      <tr class=\"spacer\" style=\"height:5px\"></tr>\n",
      "                <tr class='athing' id='26662297'>\n",
      "      <td align=\"right\" valign=\"top\" class=\"title\"><span class=\"rank\">30.</span></td>      <td valign=\"top\" class=\"votelinks\"><center><a id='up_26662297' href='vote?id=26662297&amp;how=up&amp;goto=news'><div class='votearrow' title='upvote'></div></a></center></td><td class=\"title\"><a href=\"https://advancedweb.hu/a-categorized-list-of-all-java-and-jvm-features-since-jdk-8-to-16/\" class=\"storylink\">A categorized list of all Java and JVM features since JDK 8 to 16</a><span class=\"sitebit comhead\"> (<a href=\"from?site=advancedweb.hu\"><span class=\"sitestr\">advancedweb.hu</span></a>)</span></td></tr><tr><td colspan=\"2\"></td><td class=\"subtext\">\n",
      "        <span class=\"score\" id=\"score_26662297\">267 points</span> by <a href=\"user?id=pjmlp\" class=\"hnuser\">pjmlp</a> <span class=\"age\"><a href=\"item?id=26662297\">8 hours ago</a></span> <span id=\"unv_26662297\"></span> | <a href=\"hide?id=26662297&amp;goto=news\">hide</a> | <a href=\"item?id=26662297\">165&nbsp;comments</a>              </td></tr>\n",
      "      <tr class=\"spacer\" style=\"height:5px\"></tr>\n",
      "            <tr class=\"morespace\" style=\"height:10px\"></tr><tr><td colspan=\"2\"></td><td class=\"title\"><a href=\"news?p=2\" class=\"morelink\" rel=\"next\">More</a></td></tr>\n",
      "  </table>\n",
      "</td></tr>\n",
      "<tr><td><img src=\"s.gif\" height=\"10\" width=\"0\"><table width=\"100%\" cellspacing=\"0\" cellpadding=\"1\"><tr><td bgcolor=\"#ff6600\"></td></tr></table><br><center><span class=\"yclinks\"><a href=\"newsguidelines.html\">Guidelines</a>\n",
      "        | <a href=\"newsfaq.html\">FAQ</a>\n",
      "        | <a href=\"lists\">Lists</a>\n",
      "        | <a href=\"https://github.com/HackerNews/API\">API</a>\n",
      "        | <a href=\"security.html\">Security</a>\n",
      "        | <a href=\"http://www.ycombinator.com/legal/\">Legal</a>\n",
      "        | <a href=\"http://www.ycombinator.com/apply/\">Apply to YC</a>\n",
      "        | <a href=\"mailto:hn@ycombinator.com\">Contact</a></span><br><br><form method=\"get\" action=\"//hn.algolia.com/\">Search:\n",
      "          <input type=\"text\" name=\"q\" value=\"\" size=\"17\" autocorrect=\"off\" spellcheck=\"false\" autocapitalize=\"off\" autocomplete=\"false\"></form>\n",
      "            </center></td></tr>\n",
      "      </table></center></body><script type='text/javascript' src='hn.js?g6QC6yILctWa5ODSvAyA'></script></html>\n",
      "\n"
     ]
    }
   ],
   "source": [
    "import requests\n",
    "\n",
    "# Fetch a web page\n",
    "r = requests.get(\"https://news.ycombinator.com\")\n",
    "print(r.text)"
   ]
  },
  {
   "cell_type": "code",
   "execution_count": 5,
   "metadata": {},
   "outputs": [
    {
     "name": "stdout",
     "output_type": "stream",
     "text": [
      "\n",
      "        \n",
      "          \n",
      "        Hacker News\n",
      "        \n",
      "                  Hacker News\n",
      "              new | past | comments | ask | show | jobs | submit            \n",
      "                              login\n",
      "                          \n",
      "              \n",
      "\n",
      "              \n",
      "      1.      Signed Char Lotte (nickdrozd.github.io)\n",
      "        437 points by signa11 6 hours ago  | hide | 53&nbsp;comments              \n",
      "      \n",
      "                \n",
      "      2.      Zero click vulnerability in Apple’s macOS Mail (mikko-kenttala.medium.com)\n",
      "        187 points by jviide 5 hours ago  | hide | 117&nbsp;comments              \n",
      "      \n",
      "                \n",
      "      3.      Gut microbial taxa elevated by dietary sugar disrupt memory function (nature.com)\n",
      "        38 points by AnonymousOne 1 hour ago  | hide | 7&nbsp;comments              \n",
      "      \n",
      "                \n",
      "      4.      OpenBSD Adds Support for Coordinated Mars Time (MTC) (marc.info)\n",
      "        157 points by dbolgheroni 5 hours ago  | hide | 72&nbsp;comments              \n",
      "      \n",
      "                \n",
      "      5.      Ask HN: Who is hiring? (April 2021)\n",
      "        305 points by whoishiring 9 hours ago  | hide | 688&nbsp;comments              \n",
      "      \n",
      "                \n",
      "      6.      RFC8962: Establishing the Protocol Police (rfc-editor.org)\n",
      "        33 points by virgulino 2 hours ago  | hide | 9&nbsp;comments              \n",
      "      \n",
      "                \n",
      "      7.      MS Azure down: An emerging issue is being investigated (azure.com)\n",
      "        154 points by williamscales 2 hours ago  | hide | 76&nbsp;comments              \n",
      "      \n",
      "                \n",
      "      8.      Bash-LSP: A language server for Bash (github.com/bash-lsp)\n",
      "        133 points by ducktective 7 hours ago  | hide | 56&nbsp;comments              \n",
      "      \n",
      "                \n",
      "      9.      Goblins: A transactional, distributed actor model environment (racket-lang.org)\n",
      "        55 points by snicker7 4 hours ago  | hide | 6&nbsp;comments              \n",
      "      \n",
      "                \n",
      "      10.      Mathematicians Find a New Class of Digitally Delicate Primes (quantamagazine.org)\n",
      "        84 points by susam 6 hours ago  | hide | 37&nbsp;comments              \n",
      "      \n",
      "                \n",
      "      11.      List of Proposed Etymologies of OK (wikipedia.org)\n",
      "        12 points by benbreen 1 hour ago  | hide | 3&nbsp;comments              \n",
      "      \n",
      "                \n",
      "      12.      Navattic (YC W21) Is Hiring a Lead Engineer (navattic.com)\n",
      "        3 hours ago | hide      \n",
      "      \n",
      "                \n",
      "      13.      Show HN: Mail Studio – IDE for designing responsive emails (mailstudio.app)\n",
      "        320 points by martinaglv 11 hours ago  | hide | 178&nbsp;comments              \n",
      "      \n",
      "                \n",
      "      14.      Coinbase Announces Listing Date of Its Stock on the Nasdaq (coinbase.com)\n",
      "        99 points by esalazar 4 hours ago  | hide | 91&nbsp;comments              \n",
      "      \n",
      "                \n",
      "      15.      Tools for Auditing CSS (css-tricks.com)\n",
      "        20 points by starbist 3 hours ago  | hide | 5&nbsp;comments              \n",
      "      \n",
      "                \n",
      "      16.      100M Posts Analyzed: What You Need to Write the Best Headlines (buzzsumo.com)\n",
      "        120 points by vitabenes 7 hours ago  | hide | 72&nbsp;comments              \n",
      "      \n",
      "                \n",
      "      17.      Filecoin Foundation Grants 50k FIL to the Internet Archive (archive.org)\n",
      "        96 points by toomuchtodo 4 hours ago  | hide | 86&nbsp;comments              \n",
      "      \n",
      "                \n",
      "      18.      OpenTTD 1.11.0 (openttd.org)\n",
      "        193 points by app4soft 10 hours ago  | hide | 34&nbsp;comments              \n",
      "      \n",
      "                \n",
      "      19.      Evaluating Search Algorithms (shopify.engineering)\n",
      "        51 points by clandry94 4 hours ago  | hide | 7&nbsp;comments              \n",
      "      \n",
      "                \n",
      "      20.      The Trouble with Brain Scans (nautil.us)\n",
      "        25 points by dnetesn 3 hours ago  | hide | 8&nbsp;comments              \n",
      "      \n",
      "                \n",
      "      21.      Show HN: I built Creodocs, a document creation platform based on LaTeX (creodocs.com)\n",
      "        15 points by VelNZ 1 hour ago  | hide | 1&nbsp;comment              \n",
      "      \n",
      "                \n",
      "      22.      Ask HN: Who wants to be hired? (April 2021)\n",
      "        123 points by whoishiring 9 hours ago  | hide | 136&nbsp;comments              \n",
      "      \n",
      "                \n",
      "      23.      Ask HN: Where do you find potential customers to validate your idea / MVP?\n",
      "        206 points by showsover 10 hours ago  | hide | 80&nbsp;comments              \n",
      "      \n",
      "                \n",
      "      24.      Fish Doorbell (dutchreview.com)\n",
      "        86 points by yamman 8 hours ago  | hide | 27&nbsp;comments              \n",
      "      \n",
      "                \n",
      "      25.      Proposal: Downward Assignments (ruby-lang.org)\n",
      "        45 points by jbredeche 4 hours ago  | hide | 20&nbsp;comments              \n",
      "      \n",
      "                \n",
      "      26.      Azure is having DNS issues (azure.com)\n",
      "        83 points by ddb 2 hours ago  | hide | 36&nbsp;comments              \n",
      "      \n",
      "                \n",
      "      27.      Show HN: Simplenetes – I replaced Kubernetes with 17k lines of shell script (github.com/simplenetes-io)\n",
      "        132 points by thomasbacklund 9 hours ago  | hide | 91&nbsp;comments              \n",
      "      \n",
      "                \n",
      "      28.      Category Theory: Orders (boris-marinov.github.io)\n",
      "        189 points by todsacerdoti 15 hours ago  | hide | 45&nbsp;comments              \n",
      "      \n",
      "                \n",
      "      29.      OpenMW – open-source TES3 Morrowind reimplementation (openmw.org)\n",
      "        14 points by agluszak 3 hours ago  | hide | discuss              \n",
      "      \n",
      "                \n",
      "      30.      A categorized list of all Java and JVM features since JDK 8 to 16 (advancedweb.hu)\n",
      "        267 points by pjmlp 8 hours ago  | hide | 165&nbsp;comments              \n",
      "      \n",
      "            More\n",
      "  \n",
      "\n",
      "Guidelines\n",
      "        | FAQ\n",
      "        | Lists\n",
      "        | API\n",
      "        | Security\n",
      "        | Legal\n",
      "        | Apply to YC\n",
      "        | ContactSearch:\n",
      "          \n",
      "            \n",
      "      \n",
      "\n"
     ]
    }
   ],
   "source": [
    "import re\n",
    "\n",
    "# Remove HTML tags using RegEx\n",
    "pattern = re.compile(r'<.*?>')  # tags look like <...>\n",
    "print(pattern.sub('', r.text))  # replace them with blank"
   ]
  },
  {
   "cell_type": "code",
   "execution_count": 6,
   "metadata": {},
   "outputs": [
    {
     "name": "stdout",
     "output_type": "stream",
     "text": [
      "\n",
      "        \n",
      "          \n",
      "        Hacker News\n",
      "        \n",
      "                  Hacker News\n",
      "              new | past | comments | ask | show | jobs | submit            \n",
      "                              login\n",
      "                          \n",
      "              \n",
      "\n",
      "              \n",
      "      1.      Signed Char Lotte (nickdrozd.github.io)\n",
      "        437 points by signa11 6 hours ago  | hide | 53 comments              \n",
      "      \n",
      "                \n",
      "      2.      Zero click vulnerability in Apple’s macOS Mail (mikko-kenttala.medium.com)\n",
      "        187 points by jviide 5 hours ago  | hide | 117 comments              \n",
      "      \n",
      "                \n",
      "      3.      Gut microbial taxa elevated by dietary sugar disrupt memory function (nature.com)\n",
      "        38 points by AnonymousOne 1 hour ago  | hide | 7 comments              \n",
      "      \n",
      "                \n",
      "      4.      OpenBSD Adds Support for Coordinated Mars Time (MTC) (marc.info)\n",
      "        157 points by dbolgheroni 5 hours ago  | hide | 72 comments              \n",
      "      \n",
      "                \n",
      "      5.      Ask HN: Who is hiring? (April 2021)\n",
      "        305 points by whoishiring 9 hours ago  | hide | 688 comments              \n",
      "      \n",
      "                \n",
      "      6.      RFC8962: Establishing the Protocol Police (rfc-editor.org)\n",
      "        33 points by virgulino 2 hours ago  | hide | 9 comments              \n",
      "      \n",
      "                \n",
      "      7.      MS Azure down: An emerging issue is being investigated (azure.com)\n",
      "        154 points by williamscales 2 hours ago  | hide | 76 comments              \n",
      "      \n",
      "                \n",
      "      8.      Bash-LSP: A language server for Bash (github.com/bash-lsp)\n",
      "        133 points by ducktective 7 hours ago  | hide | 56 comments              \n",
      "      \n",
      "                \n",
      "      9.      Goblins: A transactional, distributed actor model environment (racket-lang.org)\n",
      "        55 points by snicker7 4 hours ago  | hide | 6 comments              \n",
      "      \n",
      "                \n",
      "      10.      Mathematicians Find a New Class of Digitally Delicate Primes (quantamagazine.org)\n",
      "        84 points by susam 6 hours ago  | hide | 37 comments              \n",
      "      \n",
      "                \n",
      "      11.      List of Proposed Etymologies of OK (wikipedia.org)\n",
      "        12 points by benbreen 1 hour ago  | hide | 3 comments              \n",
      "      \n",
      "                \n",
      "      12.      Navattic (YC W21) Is Hiring a Lead Engineer (navattic.com)\n",
      "        3 hours ago | hide      \n",
      "      \n",
      "                \n",
      "      13.      Show HN: Mail Studio – IDE for designing responsive emails (mailstudio.app)\n",
      "        320 points by martinaglv 11 hours ago  | hide | 178 comments              \n",
      "      \n",
      "                \n",
      "      14.      Coinbase Announces Listing Date of Its Stock on the Nasdaq (coinbase.com)\n",
      "        99 points by esalazar 4 hours ago  | hide | 91 comments              \n",
      "      \n",
      "                \n",
      "      15.      Tools for Auditing CSS (css-tricks.com)\n",
      "        20 points by starbist 3 hours ago  | hide | 5 comments              \n",
      "      \n",
      "                \n",
      "      16.      100M Posts Analyzed: What You Need to Write the Best Headlines (buzzsumo.com)\n",
      "        120 points by vitabenes 7 hours ago  | hide | 72 comments              \n",
      "      \n",
      "                \n",
      "      17.      Filecoin Foundation Grants 50k FIL to the Internet Archive (archive.org)\n",
      "        96 points by toomuchtodo 4 hours ago  | hide | 86 comments              \n",
      "      \n",
      "                \n",
      "      18.      OpenTTD 1.11.0 (openttd.org)\n",
      "        193 points by app4soft 10 hours ago  | hide | 34 comments              \n",
      "      \n",
      "                \n",
      "      19.      Evaluating Search Algorithms (shopify.engineering)\n",
      "        51 points by clandry94 4 hours ago  | hide | 7 comments              \n",
      "      \n",
      "                \n",
      "      20.      The Trouble with Brain Scans (nautil.us)\n",
      "        25 points by dnetesn 3 hours ago  | hide | 8 comments              \n",
      "      \n",
      "                \n",
      "      21.      Show HN: I built Creodocs, a document creation platform based on LaTeX (creodocs.com)\n",
      "        15 points by VelNZ 1 hour ago  | hide | 1 comment              \n",
      "      \n",
      "                \n",
      "      22.      Ask HN: Who wants to be hired? (April 2021)\n",
      "        123 points by whoishiring 9 hours ago  | hide | 136 comments              \n",
      "      \n",
      "                \n",
      "      23.      Ask HN: Where do you find potential customers to validate your idea / MVP?\n",
      "        206 points by showsover 10 hours ago  | hide | 80 comments              \n",
      "      \n",
      "                \n",
      "      24.      Fish Doorbell (dutchreview.com)\n",
      "        86 points by yamman 8 hours ago  | hide | 27 comments              \n",
      "      \n",
      "                \n",
      "      25.      Proposal: Downward Assignments (ruby-lang.org)\n",
      "        45 points by jbredeche 4 hours ago  | hide | 20 comments              \n",
      "      \n",
      "                \n",
      "      26.      Azure is having DNS issues (azure.com)\n",
      "        83 points by ddb 2 hours ago  | hide | 36 comments              \n",
      "      \n",
      "                \n",
      "      27.      Show HN: Simplenetes – I replaced Kubernetes with 17k lines of shell script (github.com/simplenetes-io)\n",
      "        132 points by thomasbacklund 9 hours ago  | hide | 91 comments              \n",
      "      \n",
      "                \n",
      "      28.      Category Theory: Orders (boris-marinov.github.io)\n",
      "        189 points by todsacerdoti 15 hours ago  | hide | 45 comments              \n",
      "      \n",
      "                \n",
      "      29.      OpenMW – open-source TES3 Morrowind reimplementation (openmw.org)\n",
      "        14 points by agluszak 3 hours ago  | hide | discuss              \n",
      "      \n",
      "                \n",
      "      30.      A categorized list of all Java and JVM features since JDK 8 to 16 (advancedweb.hu)\n",
      "        267 points by pjmlp 8 hours ago  | hide | 165 comments              \n",
      "      \n",
      "            More\n",
      "  \n",
      "\n",
      "Guidelines\n",
      "        | FAQ\n",
      "        | Lists\n",
      "        | API\n",
      "        | Security\n",
      "        | Legal\n",
      "        | Apply to YC\n",
      "        | ContactSearch:\n",
      "          \n",
      "            \n",
      "      \n",
      "\n"
     ]
    }
   ],
   "source": [
    "from bs4 import BeautifulSoup\n",
    "\n",
    "# Remove HTML tags using Beautiful Soup library\n",
    "soup = BeautifulSoup(r.text, \"html5lib\")\n",
    "print(soup.get_text())"
   ]
  },
  {
   "cell_type": "code",
   "execution_count": 7,
   "metadata": {
    "scrolled": true
   },
   "outputs": [
    {
     "data": {
      "text/plain": [
       "<tr class=\"athing\" id=\"26644838\">\n",
       "      <td align=\"right\" class=\"title\" valign=\"top\"><span class=\"rank\">1.</span></td>      <td class=\"votelinks\" valign=\"top\"><center><a href=\"vote?id=26644838&amp;how=up&amp;goto=news\" id=\"up_26644838\"><div class=\"votearrow\" title=\"upvote\"></div></a></center></td><td class=\"title\"><a class=\"storylink\" href=\"https://nickdrozd.github.io/2021/03/30/signed-char-lotte.html\">Signed Char Lotte</a><span class=\"sitebit comhead\"> (<a href=\"from?site=nickdrozd.github.io\"><span class=\"sitestr\">nickdrozd.github.io</span></a>)</span></td></tr>"
      ]
     },
     "execution_count": 7,
     "metadata": {},
     "output_type": "execute_result"
    }
   ],
   "source": [
    "# Find all articles\n",
    "summaries = soup.find_all(\"tr\", class_=\"athing\")\n",
    "summaries[0]"
   ]
  },
  {
   "cell_type": "code",
   "execution_count": 8,
   "metadata": {},
   "outputs": [
    {
     "data": {
      "text/plain": [
       "'Signed Char Lotte'"
      ]
     },
     "execution_count": 8,
     "metadata": {},
     "output_type": "execute_result"
    }
   ],
   "source": [
    "# Extract title\n",
    "summaries[0].find(\"a\", class_=\"storylink\").get_text().strip()"
   ]
  },
  {
   "cell_type": "code",
   "execution_count": 13,
   "metadata": {},
   "outputs": [
    {
     "name": "stdout",
     "output_type": "stream",
     "text": [
      "30 Article summaries found. Sample:\n",
      "Signed Char Lotte\n"
     ]
    }
   ],
   "source": [
    "# Find all articles, extract titles\n",
    "articles = []\n",
    "summaries = soup.find_all(\"tr\", class_=\"athing\")\n",
    "for summary in summaries:\n",
    "    title = summary.find(\"a\", class_=\"storylink\").get_text().strip()\n",
    "    articles.append((title))\n",
    "\n",
    "print(len(articles), \"Article summaries found. Sample:\")\n",
    "print(articles[0])"
   ]
  },
  {
   "cell_type": "markdown",
   "metadata": {
    "collapsed": true
   },
   "source": [
    "## Normalization"
   ]
  },
  {
   "cell_type": "markdown",
   "metadata": {},
   "source": [
    "### Case Normalization"
   ]
  },
  {
   "cell_type": "code",
   "execution_count": 10,
   "metadata": {},
   "outputs": [
    {
     "name": "stdout",
     "output_type": "stream",
     "text": [
      "The first time you see The Second Renaissance it may look boring. Look at it at least twice and definitely watch part 2. It will change your view of the matrix. Are the human people the ones who started the war ? Is AI a bad thing ?\n"
     ]
    }
   ],
   "source": [
    "# Sample text\n",
    "text = \"The first time you see The Second Renaissance it may look boring. Look at it at least twice and definitely watch part 2. It will change your view of the matrix. Are the human people the ones who started the war ? Is AI a bad thing ?\"\n",
    "print(text)"
   ]
  },
  {
   "cell_type": "code",
   "execution_count": 11,
   "metadata": {},
   "outputs": [
    {
     "name": "stdout",
     "output_type": "stream",
     "text": [
      "the first time you see the second renaissance it may look boring. look at it at least twice and definitely watch part 2. it will change your view of the matrix. are the human people the ones who started the war ? is ai a bad thing ?\n"
     ]
    }
   ],
   "source": [
    "# Convert to lowercase\n",
    "text = text.lower() \n",
    "print(text)"
   ]
  },
  {
   "cell_type": "markdown",
   "metadata": {},
   "source": [
    "### Punctuation Removal"
   ]
  },
  {
   "cell_type": "code",
   "execution_count": 12,
   "metadata": {},
   "outputs": [
    {
     "name": "stdout",
     "output_type": "stream",
     "text": [
      "the first time you see the second renaissance it may look boring  look at it at least twice and definitely watch part 2  it will change your view of the matrix  are the human people the ones who started the war   is ai a bad thing  \n"
     ]
    }
   ],
   "source": [
    "import re\n",
    "\n",
    "# Remove punctuation characters\n",
    "text = re.sub(r\"[^a-zA-Z0-9]\", \" \", text) \n",
    "print(text)"
   ]
  },
  {
   "cell_type": "markdown",
   "metadata": {},
   "source": [
    "## Tokenization"
   ]
  },
  {
   "cell_type": "code",
   "execution_count": 14,
   "metadata": {},
   "outputs": [
    {
     "name": "stdout",
     "output_type": "stream",
     "text": [
      "['the', 'first', 'time', 'you', 'see', 'the', 'second', 'renaissance', 'it', 'may', 'look', 'boring', 'look', 'at', 'it', 'at', 'least', 'twice', 'and', 'definitely', 'watch', 'part', '2', 'it', 'will', 'change', 'your', 'view', 'of', 'the', 'matrix', 'are', 'the', 'human', 'people', 'the', 'ones', 'who', 'started', 'the', 'war', 'is', 'ai', 'a', 'bad', 'thing']\n"
     ]
    }
   ],
   "source": [
    "# Split text into tokens (words)\n",
    "words = text.split()\n",
    "print(words)"
   ]
  },
  {
   "cell_type": "markdown",
   "metadata": {},
   "source": [
    "### NLTK: Natural Language ToolKit"
   ]
  },
  {
   "cell_type": "code",
   "execution_count": 15,
   "metadata": {},
   "outputs": [],
   "source": [
    "import os\n",
    "import nltk\n",
    "nltk.data.path.append(os.path.join(os.getcwd(), \"nltk_data\"))"
   ]
  },
  {
   "cell_type": "code",
   "execution_count": 16,
   "metadata": {},
   "outputs": [
    {
     "name": "stdout",
     "output_type": "stream",
     "text": [
      "Dr. Smith graduated from the University of Washington. He later started an analytics firm called Lux, which catered to enterprise customers.\n"
     ]
    }
   ],
   "source": [
    "# Another sample text\n",
    "text = \"Dr. Smith graduated from the University of Washington. He later started an analytics firm called Lux, which catered to enterprise customers.\"\n",
    "print(text)"
   ]
  },
  {
   "cell_type": "code",
   "execution_count": 17,
   "metadata": {},
   "outputs": [
    {
     "name": "stdout",
     "output_type": "stream",
     "text": [
      "['Dr.', 'Smith', 'graduated', 'from', 'the', 'University', 'of', 'Washington', '.', 'He', 'later', 'started', 'an', 'analytics', 'firm', 'called', 'Lux', ',', 'which', 'catered', 'to', 'enterprise', 'customers', '.']\n"
     ]
    }
   ],
   "source": [
    "from nltk.tokenize import word_tokenize\n",
    "\n",
    "# Split text into words using NLTK\n",
    "words = word_tokenize(text)\n",
    "print(words)"
   ]
  },
  {
   "cell_type": "code",
   "execution_count": 18,
   "metadata": {},
   "outputs": [
    {
     "name": "stdout",
     "output_type": "stream",
     "text": [
      "['Dr. Smith graduated from the University of Washington.', 'He later started an analytics firm called Lux, which catered to enterprise customers.']\n"
     ]
    }
   ],
   "source": [
    "from nltk.tokenize import sent_tokenize\n",
    "\n",
    "# Split text into sentences\n",
    "sentences = sent_tokenize(text)\n",
    "print(sentences)"
   ]
  },
  {
   "cell_type": "code",
   "execution_count": 19,
   "metadata": {},
   "outputs": [
    {
     "name": "stdout",
     "output_type": "stream",
     "text": [
      "['i', 'me', 'my', 'myself', 'we', 'our', 'ours', 'ourselves', 'you', \"you're\", \"you've\", \"you'll\", \"you'd\", 'your', 'yours', 'yourself', 'yourselves', 'he', 'him', 'his', 'himself', 'she', \"she's\", 'her', 'hers', 'herself', 'it', \"it's\", 'its', 'itself', 'they', 'them', 'their', 'theirs', 'themselves', 'what', 'which', 'who', 'whom', 'this', 'that', \"that'll\", 'these', 'those', 'am', 'is', 'are', 'was', 'were', 'be', 'been', 'being', 'have', 'has', 'had', 'having', 'do', 'does', 'did', 'doing', 'a', 'an', 'the', 'and', 'but', 'if', 'or', 'because', 'as', 'until', 'while', 'of', 'at', 'by', 'for', 'with', 'about', 'against', 'between', 'into', 'through', 'during', 'before', 'after', 'above', 'below', 'to', 'from', 'up', 'down', 'in', 'out', 'on', 'off', 'over', 'under', 'again', 'further', 'then', 'once', 'here', 'there', 'when', 'where', 'why', 'how', 'all', 'any', 'both', 'each', 'few', 'more', 'most', 'other', 'some', 'such', 'no', 'nor', 'not', 'only', 'own', 'same', 'so', 'than', 'too', 'very', 's', 't', 'can', 'will', 'just', 'don', \"don't\", 'should', \"should've\", 'now', 'd', 'll', 'm', 'o', 're', 've', 'y', 'ain', 'aren', \"aren't\", 'couldn', \"couldn't\", 'didn', \"didn't\", 'doesn', \"doesn't\", 'hadn', \"hadn't\", 'hasn', \"hasn't\", 'haven', \"haven't\", 'isn', \"isn't\", 'ma', 'mightn', \"mightn't\", 'mustn', \"mustn't\", 'needn', \"needn't\", 'shan', \"shan't\", 'shouldn', \"shouldn't\", 'wasn', \"wasn't\", 'weren', \"weren't\", 'won', \"won't\", 'wouldn', \"wouldn't\"]\n"
     ]
    }
   ],
   "source": [
    "# List stop words\n",
    "from nltk.corpus import stopwords\n",
    "print(stopwords.words(\"english\"))"
   ]
  },
  {
   "cell_type": "code",
   "execution_count": 20,
   "metadata": {},
   "outputs": [
    {
     "name": "stdout",
     "output_type": "stream",
     "text": [
      "['the', 'first', 'time', 'you', 'see', 'the', 'second', 'renaissance', 'it', 'may', 'look', 'boring', 'look', 'at', 'it', 'at', 'least', 'twice', 'and', 'definitely', 'watch', 'part', '2', 'it', 'will', 'change', 'your', 'view', 'of', 'the', 'matrix', 'are', 'the', 'human', 'people', 'the', 'ones', 'who', 'started', 'the', 'war', 'is', 'ai', 'a', 'bad', 'thing']\n"
     ]
    }
   ],
   "source": [
    "# Reset text\n",
    "text = \"The first time you see The Second Renaissance it may look boring. Look at it at least twice and definitely watch part 2. It will change your view of the matrix. Are the human people the ones who started the war ? Is AI a bad thing ?\"\n",
    "\n",
    "# Normalize it\n",
    "text = re.sub(r\"[^a-zA-Z0-9]\", \" \", text.lower())\n",
    "\n",
    "# Tokenize it\n",
    "words = text.split()\n",
    "print(words)"
   ]
  },
  {
   "cell_type": "code",
   "execution_count": 21,
   "metadata": {},
   "outputs": [
    {
     "name": "stdout",
     "output_type": "stream",
     "text": [
      "['first', 'time', 'see', 'second', 'renaissance', 'may', 'look', 'boring', 'look', 'least', 'twice', 'definitely', 'watch', 'part', '2', 'change', 'view', 'matrix', 'human', 'people', 'ones', 'started', 'war', 'ai', 'bad', 'thing']\n"
     ]
    }
   ],
   "source": [
    "# Remove stop words\n",
    "words = [w for w in words if w not in stopwords.words(\"english\")]\n",
    "print(words)"
   ]
  },
  {
   "cell_type": "markdown",
   "metadata": {},
   "source": [
    "### Sentence Parsing"
   ]
  },
  {
   "cell_type": "code",
   "execution_count": 22,
   "metadata": {},
   "outputs": [
    {
     "name": "stdout",
     "output_type": "stream",
     "text": [
      "(S\n",
      "  (NP I)\n",
      "  (VP\n",
      "    (VP (V shot) (NP (Det an) (N elephant)))\n",
      "    (PP (P in) (NP (Det my) (N pajamas)))))\n",
      "(S\n",
      "  (NP I)\n",
      "  (VP\n",
      "    (V shot)\n",
      "    (NP (Det an) (N elephant) (PP (P in) (NP (Det my) (N pajamas))))))\n"
     ]
    }
   ],
   "source": [
    "import nltk\n",
    "\n",
    "# Define a custom grammar\n",
    "my_grammar = nltk.CFG.fromstring(\"\"\"\n",
    "S -> NP VP\n",
    "PP -> P NP\n",
    "NP -> Det N | Det N PP | 'I'\n",
    "VP -> V NP | VP PP\n",
    "Det -> 'an' | 'my'\n",
    "N -> 'elephant' | 'pajamas'\n",
    "V -> 'shot'\n",
    "P -> 'in'\n",
    "\"\"\")\n",
    "parser = nltk.ChartParser(my_grammar)\n",
    "\n",
    "# Parse a sentence\n",
    "sentence = word_tokenize(\"I shot an elephant in my pajamas\")\n",
    "for tree in parser.parse(sentence):\n",
    "    print(tree)"
   ]
  },
  {
   "cell_type": "markdown",
   "metadata": {},
   "source": [
    "## Stemming & Lemmatization\n",
    "\n",
    "### Stemming"
   ]
  },
  {
   "cell_type": "code",
   "execution_count": 23,
   "metadata": {},
   "outputs": [
    {
     "name": "stdout",
     "output_type": "stream",
     "text": [
      "['first', 'time', 'see', 'second', 'renaiss', 'may', 'look', 'bore', 'look', 'least', 'twice', 'definit', 'watch', 'part', '2', 'chang', 'view', 'matrix', 'human', 'peopl', 'one', 'start', 'war', 'ai', 'bad', 'thing']\n"
     ]
    }
   ],
   "source": [
    "from nltk.stem.porter import PorterStemmer\n",
    "\n",
    "# Reduce words to their stems\n",
    "stemmed = [PorterStemmer().stem(w) for w in words]\n",
    "print(stemmed)"
   ]
  },
  {
   "cell_type": "markdown",
   "metadata": {},
   "source": [
    "### Lemmatization"
   ]
  },
  {
   "cell_type": "code",
   "execution_count": 24,
   "metadata": {},
   "outputs": [
    {
     "name": "stdout",
     "output_type": "stream",
     "text": [
      "['first', 'time', 'see', 'second', 'renaissance', 'may', 'look', 'boring', 'look', 'least', 'twice', 'definitely', 'watch', 'part', '2', 'change', 'view', 'matrix', 'human', 'people', 'one', 'started', 'war', 'ai', 'bad', 'thing']\n"
     ]
    }
   ],
   "source": [
    "from nltk.stem.wordnet import WordNetLemmatizer\n",
    "\n",
    "# Reduce words to their root form\n",
    "lemmed = [WordNetLemmatizer().lemmatize(w) for w in words]\n",
    "print(lemmed)"
   ]
  },
  {
   "cell_type": "code",
   "execution_count": 25,
   "metadata": {},
   "outputs": [
    {
     "name": "stdout",
     "output_type": "stream",
     "text": [
      "['first', 'time', 'see', 'second', 'renaissance', 'may', 'look', 'bore', 'look', 'least', 'twice', 'definitely', 'watch', 'part', '2', 'change', 'view', 'matrix', 'human', 'people', 'one', 'start', 'war', 'ai', 'bad', 'thing']\n"
     ]
    }
   ],
   "source": [
    "# Lemmatize verbs by specifying pos\n",
    "lemmed = [WordNetLemmatizer().lemmatize(w, pos='v') for w in lemmed]\n",
    "print(lemmed)"
   ]
  },
  {
   "cell_type": "code",
   "execution_count": null,
   "metadata": {},
   "outputs": [],
   "source": []
  },
  {
   "cell_type": "code",
   "execution_count": null,
   "metadata": {},
   "outputs": [],
   "source": []
  }
 ],
 "metadata": {
  "kernelspec": {
   "display_name": "Python 3",
   "language": "python",
   "name": "python3"
  },
  "language_info": {
   "codemirror_mode": {
    "name": "ipython",
    "version": 3
   },
   "file_extension": ".py",
   "mimetype": "text/x-python",
   "name": "python",
   "nbconvert_exporter": "python",
   "pygments_lexer": "ipython3",
   "version": "3.6.3"
  }
 },
 "nbformat": 4,
 "nbformat_minor": 2
}
