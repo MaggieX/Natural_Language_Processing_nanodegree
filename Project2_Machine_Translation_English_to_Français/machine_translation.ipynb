{
 "cells": [
  {
   "cell_type": "markdown",
   "metadata": {
    "collapsed": true
   },
   "source": [
    "# Artificial Intelligence Nanodegree\n",
    "## Machine Translation Project\n",
    "In this notebook, sections that end with **'(IMPLEMENTATION)'** in the header indicate that the following blocks of code will require additional functionality which you must provide. Please be sure to read the instructions carefully!\n",
    "\n",
    "## Introduction\n",
    "In this notebook, you will build a deep neural network that functions as part of an end-to-end machine translation pipeline. Your completed pipeline will accept English text as input and return the French translation.\n",
    "\n",
    "- **Preprocess** - You'll convert text to sequence of integers.\n",
    "- **Models** Create models which accepts a sequence of integers as input and returns a probability distribution over possible translations. After learning about the basic types of neural networks that are often used for machine translation, you will engage in your own investigations, to design your own model!\n",
    "- **Prediction** Run the model on English text."
   ]
  },
  {
   "cell_type": "code",
   "execution_count": 1,
   "metadata": {},
   "outputs": [],
   "source": [
    "%load_ext autoreload\n",
    "%aimport helper, tests\n",
    "%autoreload 1"
   ]
  },
  {
   "cell_type": "code",
   "execution_count": 2,
   "metadata": {},
   "outputs": [
    {
     "name": "stderr",
     "output_type": "stream",
     "text": [
      "Using TensorFlow backend.\n"
     ]
    }
   ],
   "source": [
    "import collections\n",
    "\n",
    "import helper\n",
    "import numpy as np\n",
    "import project_tests as tests\n",
    "\n",
    "from keras.preprocessing.text import Tokenizer\n",
    "from keras.preprocessing.sequence import pad_sequences\n",
    "from keras.models import Model\n",
    "from keras.layers import GRU, Input, Dense, TimeDistributed, Activation, RepeatVector, Bidirectional\n",
    "from keras.layers.embeddings import Embedding\n",
    "from keras.optimizers import Adam\n",
    "from keras.losses import sparse_categorical_crossentropy"
   ]
  },
  {
   "cell_type": "markdown",
   "metadata": {},
   "source": [
    "### Verify access to the GPU\n",
    "The following test applies only if you expect to be using a GPU, e.g., while running in a Udacity Workspace or using an AWS instance with GPU support. Run the next cell, and verify that the device_type is \"GPU\".\n",
    "- If the device is not GPU & you are running from a Udacity Workspace, then save your workspace with the icon at the top, then click \"enable\" at the bottom of the workspace.\n",
    "- If the device is not GPU & you are running from an AWS instance, then refer to the cloud computing instructions in the classroom to verify your setup steps."
   ]
  },
  {
   "cell_type": "code",
   "execution_count": 3,
   "metadata": {},
   "outputs": [
    {
     "name": "stdout",
     "output_type": "stream",
     "text": [
      "[name: \"/cpu:0\"\n",
      "device_type: \"CPU\"\n",
      "memory_limit: 268435456\n",
      "locality {\n",
      "}\n",
      "incarnation: 3250465686382987682\n",
      ", name: \"/gpu:0\"\n",
      "device_type: \"GPU\"\n",
      "memory_limit: 357433344\n",
      "locality {\n",
      "  bus_id: 1\n",
      "}\n",
      "incarnation: 9844974581233052855\n",
      "physical_device_desc: \"device: 0, name: Tesla K80, pci bus id: 0000:00:04.0\"\n",
      "]\n"
     ]
    }
   ],
   "source": [
    "from tensorflow.python.client import device_lib\n",
    "print(device_lib.list_local_devices())"
   ]
  },
  {
   "cell_type": "markdown",
   "metadata": {},
   "source": [
    "## Dataset\n",
    "We begin by investigating the dataset that will be used to train and evaluate your pipeline.  The most common datasets used for machine translation are from [WMT](http://www.statmt.org/).  However, that will take a long time to train a neural network on.  We'll be using a dataset we created for this project that contains a small vocabulary.  You'll be able to train your model in a reasonable time with this dataset.\n",
    "### Load Data\n",
    "The data is located in `data/small_vocab_en` and `data/small_vocab_fr`. The `small_vocab_en` file contains English sentences with their French translations in the `small_vocab_fr` file. Load the English and French data from these files from running the cell below."
   ]
  },
  {
   "cell_type": "code",
   "execution_count": 4,
   "metadata": {},
   "outputs": [
    {
     "name": "stdout",
     "output_type": "stream",
     "text": [
      "Dataset Loaded\n"
     ]
    }
   ],
   "source": [
    "# Load English data\n",
    "english_sentences = helper.load_data('data/small_vocab_en')\n",
    "# Load French data\n",
    "french_sentences = helper.load_data('data/small_vocab_fr')\n",
    "\n",
    "print('Dataset Loaded')"
   ]
  },
  {
   "cell_type": "markdown",
   "metadata": {},
   "source": [
    "### Files\n",
    "Each line in `small_vocab_en` contains an English sentence with the respective translation in each line of `small_vocab_fr`.  View the first two lines from each file."
   ]
  },
  {
   "cell_type": "code",
   "execution_count": 5,
   "metadata": {},
   "outputs": [
    {
     "name": "stdout",
     "output_type": "stream",
     "text": [
      "small_vocab_en Line 1:  new jersey is sometimes quiet during autumn , and it is snowy in april .\n",
      "small_vocab_fr Line 1:  new jersey est parfois calme pendant l' automne , et il est neigeux en avril .\n",
      "small_vocab_en Line 2:  the united states is usually chilly during july , and it is usually freezing in november .\n",
      "small_vocab_fr Line 2:  les états-unis est généralement froid en juillet , et il gèle habituellement en novembre .\n"
     ]
    }
   ],
   "source": [
    "for sample_i in range(2):\n",
    "    print('small_vocab_en Line {}:  {}'.format(sample_i + 1, english_sentences[sample_i]))\n",
    "    print('small_vocab_fr Line {}:  {}'.format(sample_i + 1, french_sentences[sample_i]))"
   ]
  },
  {
   "cell_type": "markdown",
   "metadata": {},
   "source": [
    "From looking at the sentences, you can see they have been preprocessed already.  The puncuations have been delimited using spaces. All the text have been converted to lowercase.  This should save you some time, but the text requires more preprocessing.\n",
    "### Vocabulary\n",
    "The complexity of the problem is determined by the complexity of the vocabulary.  A more complex vocabulary is a more complex problem.  Let's look at the complexity of the dataset we'll be working with."
   ]
  },
  {
   "cell_type": "code",
   "execution_count": 6,
   "metadata": {},
   "outputs": [
    {
     "name": "stdout",
     "output_type": "stream",
     "text": [
      "1823250 English words.\n",
      "227 unique English words.\n",
      "10 Most common words in the English dataset:\n",
      "\"is\" \",\" \".\" \"in\" \"it\" \"during\" \"the\" \"but\" \"and\" \"sometimes\"\n",
      "\n",
      "1961295 French words.\n",
      "355 unique French words.\n",
      "10 Most common words in the French dataset:\n",
      "\"est\" \".\" \",\" \"en\" \"il\" \"les\" \"mais\" \"et\" \"la\" \"parfois\"\n"
     ]
    }
   ],
   "source": [
    "english_words_counter = collections.Counter([word for sentence in english_sentences for word in sentence.split()])\n",
    "french_words_counter = collections.Counter([word for sentence in french_sentences for word in sentence.split()])\n",
    "\n",
    "print('{} English words.'.format(len([word for sentence in english_sentences for word in sentence.split()])))\n",
    "print('{} unique English words.'.format(len(english_words_counter)))\n",
    "print('10 Most common words in the English dataset:')\n",
    "print('\"' + '\" \"'.join(list(zip(*english_words_counter.most_common(10)))[0]) + '\"')\n",
    "print()\n",
    "print('{} French words.'.format(len([word for sentence in french_sentences for word in sentence.split()])))\n",
    "print('{} unique French words.'.format(len(french_words_counter)))\n",
    "print('10 Most common words in the French dataset:')\n",
    "print('\"' + '\" \"'.join(list(zip(*french_words_counter.most_common(10)))[0]) + '\"')"
   ]
  },
  {
   "cell_type": "markdown",
   "metadata": {},
   "source": [
    "For comparison, _Alice's Adventures in Wonderland_ contains 2,766 unique words of a total of 15,500 words.\n",
    "## Preprocess\n",
    "For this project, you won't use text data as input to your model. Instead, you'll convert the text into sequences of integers using the following preprocess methods:\n",
    "1. Tokenize the words into ids\n",
    "2. Add padding to make all the sequences the same length.\n",
    "\n",
    "Time to start preprocessing the data...\n",
    "### Tokenize (IMPLEMENTATION)\n",
    "For a neural network to predict on text data, it first has to be turned into data it can understand. Text data like \"dog\" is a sequence of ASCII character encodings.  Since a neural network is a series of multiplication and addition operations, the input data needs to be number(s).\n",
    "\n",
    "We can turn each character into a number or each word into a number.  These are called character and word ids, respectively.  Character ids are used for character level models that generate text predictions for each character.  A word level model uses word ids that generate text predictions for each word.  Word level models tend to learn better, since they are lower in complexity, so we'll use those.\n",
    "\n",
    "Turn each sentence into a sequence of words ids using Keras's [`Tokenizer`](https://keras.io/preprocessing/text/#tokenizer) function. Use this function to tokenize `english_sentences` and `french_sentences` in the cell below.\n",
    "\n",
    "Running the cell will run `tokenize` on sample data and show output for debugging."
   ]
  },
  {
   "cell_type": "code",
   "execution_count": 7,
   "metadata": {},
   "outputs": [
    {
     "name": "stdout",
     "output_type": "stream",
     "text": [
      "{'the': 1, 'quick': 2, 'a': 3, 'brown': 4, 'fox': 5, 'jumps': 6, 'over': 7, 'lazy': 8, 'dog': 9, 'by': 10, 'jove': 11, 'my': 12, 'study': 13, 'of': 14, 'lexicography': 15, 'won': 16, 'prize': 17, 'this': 18, 'is': 19, 'short': 20, 'sentence': 21}\n",
      "\n",
      "Sequence 1 in x\n",
      "  Input:  The quick brown fox jumps over the lazy dog .\n",
      "  Output: [1, 2, 4, 5, 6, 7, 1, 8, 9]\n",
      "Sequence 2 in x\n",
      "  Input:  By Jove , my quick study of lexicography won a prize .\n",
      "  Output: [10, 11, 12, 2, 13, 14, 15, 16, 3, 17]\n",
      "Sequence 3 in x\n",
      "  Input:  This is a short sentence .\n",
      "  Output: [18, 19, 3, 20, 21]\n"
     ]
    }
   ],
   "source": [
    "def tokenize(x):\n",
    "    \"\"\"\n",
    "    Tokenize x\n",
    "    :param x: List of sentences/strings to be tokenized\n",
    "    :return: Tuple of (tokenized x data, tokenizer used to tokenize x)\n",
    "    \"\"\"\n",
    "    # TODO: Implement\n",
    "    # https://github.com/keras-team/keras-preprocessing/blob/master/keras_preprocessing/text.py#L199-L251\n",
    "    x_tk = Tokenizer()\n",
    "    x_tk.fit_on_texts(x)\n",
    "    return x_tk.texts_to_sequences(x), x_tk\n",
    "\n",
    "tests.test_tokenize(tokenize)\n",
    "\n",
    "# Tokenize Example output\n",
    "text_sentences = [\n",
    "    'The quick brown fox jumps over the lazy dog .',\n",
    "    'By Jove , my quick study of lexicography won a prize .',\n",
    "    'This is a short sentence .']\n",
    "text_tokenized, text_tokenizer = tokenize(text_sentences)\n",
    "print(text_tokenizer.word_index)\n",
    "print()\n",
    "for sample_i, (sent, token_sent) in enumerate(zip(text_sentences, text_tokenized)):\n",
    "    print('Sequence {} in x'.format(sample_i + 1))\n",
    "    print('  Input:  {}'.format(sent))\n",
    "    print('  Output: {}'.format(token_sent))"
   ]
  },
  {
   "cell_type": "markdown",
   "metadata": {},
   "source": [
    "### Padding (IMPLEMENTATION)\n",
    "When batching the sequence of word ids together, each sequence needs to be the same length.  Since sentences are dynamic in length, we can add padding to the end of the sequences to make them the same length.\n",
    "\n",
    "Make sure all the English sequences have the same length and all the French sequences have the same length by adding padding to the **end** of each sequence using Keras's [`pad_sequences`](https://keras.io/preprocessing/sequence/#pad_sequences) function."
   ]
  },
  {
   "cell_type": "code",
   "execution_count": 8,
   "metadata": {},
   "outputs": [
    {
     "name": "stdout",
     "output_type": "stream",
     "text": [
      "Sequence 1 in x\n",
      "  Input:  [1 2 4 5 6 7 1 8 9]\n",
      "  Output: [1 2 4 5 6 7 1 8 9 0]\n",
      "Sequence 2 in x\n",
      "  Input:  [10 11 12  2 13 14 15 16  3 17]\n",
      "  Output: [10 11 12  2 13 14 15 16  3 17]\n",
      "Sequence 3 in x\n",
      "  Input:  [18 19  3 20 21]\n",
      "  Output: [18 19  3 20 21  0  0  0  0  0]\n"
     ]
    }
   ],
   "source": [
    "def pad(x, length=None):\n",
    "    \"\"\"\n",
    "    Pad x\n",
    "    :param x: List of sequences.\n",
    "    :param length: Length to pad the sequence to.  If None, use length of longest sequence in x.\n",
    "    :return: Padded numpy array of sequences\n",
    "    \"\"\"\n",
    "    # TODO: Implement\n",
    "    if length is None:\n",
    "        length = max([len(sequences) for sequences in x])\n",
    "    return pad_sequences(sequences=x, maxlen=length, dtype=\"int32\", padding=\"post\", value=0.0)\n",
    "\n",
    "tests.test_pad(pad)\n",
    "\n",
    "# Pad Tokenized output\n",
    "test_pad = pad(text_tokenized)\n",
    "for sample_i, (token_sent, pad_sent) in enumerate(zip(text_tokenized, test_pad)):\n",
    "    print('Sequence {} in x'.format(sample_i + 1))\n",
    "    print('  Input:  {}'.format(np.array(token_sent)))\n",
    "    print('  Output: {}'.format(pad_sent))"
   ]
  },
  {
   "cell_type": "markdown",
   "metadata": {},
   "source": [
    "### Preprocess Pipeline\n",
    "Your focus for this project is to build neural network architecture, so we won't ask you to create a preprocess pipeline.  Instead, we've provided you with the implementation of the `preprocess` function."
   ]
  },
  {
   "cell_type": "code",
   "execution_count": 9,
   "metadata": {},
   "outputs": [
    {
     "name": "stdout",
     "output_type": "stream",
     "text": [
      "Data Preprocessed\n",
      "Max English sentence length: 15\n",
      "Max French sentence length: 21\n",
      "English vocabulary size: 199\n",
      "French vocabulary size: 344\n"
     ]
    }
   ],
   "source": [
    "def preprocess(x, y):\n",
    "    \"\"\"\n",
    "    Preprocess x and y\n",
    "    :param x: Feature List of sentences\n",
    "    :param y: Label List of sentences\n",
    "    :return: Tuple of (Preprocessed x, Preprocessed y, x tokenizer, y tokenizer)\n",
    "    \"\"\"\n",
    "    preprocess_x, x_tk = tokenize(x)\n",
    "    preprocess_y, y_tk = tokenize(y)\n",
    "\n",
    "    preprocess_x = pad(preprocess_x)\n",
    "    preprocess_y = pad(preprocess_y)\n",
    "\n",
    "    # Keras's sparse_categorical_crossentropy function requires the labels to be in 3 dimensions\n",
    "    preprocess_y = preprocess_y.reshape(*preprocess_y.shape, 1)\n",
    "\n",
    "    return preprocess_x, preprocess_y, x_tk, y_tk\n",
    "\n",
    "preproc_english_sentences, preproc_french_sentences, english_tokenizer, french_tokenizer =\\\n",
    "    preprocess(english_sentences, french_sentences)\n",
    "    \n",
    "max_english_sequence_length = preproc_english_sentences.shape[1]\n",
    "max_french_sequence_length = preproc_french_sentences.shape[1]\n",
    "english_vocab_size = len(english_tokenizer.word_index)\n",
    "french_vocab_size = len(french_tokenizer.word_index)\n",
    "\n",
    "print('Data Preprocessed')\n",
    "print(\"Max English sentence length:\", max_english_sequence_length)\n",
    "print(\"Max French sentence length:\", max_french_sequence_length)\n",
    "print(\"English vocabulary size:\", english_vocab_size)\n",
    "print(\"French vocabulary size:\", french_vocab_size)"
   ]
  },
  {
   "cell_type": "markdown",
   "metadata": {},
   "source": [
    "## Models\n",
    "In this section, you will experiment with various neural network architectures.\n",
    "You will begin by training four relatively simple architectures.\n",
    "- Model 1 is a simple RNN\n",
    "- Model 2 is a RNN with Embedding\n",
    "- Model 3 is a Bidirectional RNN\n",
    "- Model 4 is an optional Encoder-Decoder RNN\n",
    "\n",
    "After experimenting with the four simple architectures, you will construct a deeper architecture that is designed to outperform all four models.\n",
    "\n",
    "Loss function: sparse categorical cross entropy: https://stats.stackexchange.com/questions/326065/cross-entropy-vs-sparse-cross-entropy-when-to-use-one-over-the-other\n",
    "\n",
    "\n",
    "### Ids Back to Text\n",
    "The neural network will be translating the input to words ids, which isn't the final form we want.  We want the French translation.  The function `logits_to_text` will bridge the gap between the logits from the neural network to the French translation.  You'll be using this function to better understand the output of the neural network."
   ]
  },
  {
   "cell_type": "code",
   "execution_count": 10,
   "metadata": {},
   "outputs": [
    {
     "name": "stdout",
     "output_type": "stream",
     "text": [
      "`logits_to_text` function loaded.\n"
     ]
    }
   ],
   "source": [
    "def logits_to_text(logits, tokenizer):\n",
    "    \"\"\"\n",
    "    Turn logits from a neural network into text using the tokenizer\n",
    "    :param logits: Logits from a neural network\n",
    "    :param tokenizer: Keras Tokenizer fit on the labels\n",
    "    :return: String that represents the text of the logits\n",
    "    \"\"\"\n",
    "    index_to_words = {id: word for word, id in tokenizer.word_index.items()}\n",
    "    index_to_words[0] = '<PAD>'\n",
    "\n",
    "    return ' '.join([index_to_words[prediction] for prediction in np.argmax(logits, 1)])\n",
    "\n",
    "print('`logits_to_text` function loaded.')"
   ]
  },
  {
   "cell_type": "markdown",
   "metadata": {},
   "source": [
    "### Model 1: RNN (IMPLEMENTATION)\n",
    "![RNN](images/rnn.png)\n",
    "A basic RNN model is a good baseline for sequence data.  In this model, you'll build a RNN that translates English to French."
   ]
  },
  {
   "cell_type": "code",
   "execution_count": 11,
   "metadata": {},
   "outputs": [
    {
     "name": "stdout",
     "output_type": "stream",
     "text": [
      "_________________________________________________________________\n",
      "Layer (type)                 Output Shape              Param #   \n",
      "=================================================================\n",
      "input_2 (InputLayer)         (None, 21, 1)             0         \n",
      "_________________________________________________________________\n",
      "gru_2 (GRU)                  (None, 21, 200)           121200    \n",
      "_________________________________________________________________\n",
      "time_distributed_2 (TimeDist (None, 21, 344)           69144     \n",
      "_________________________________________________________________\n",
      "activation_2 (Activation)    (None, 21, 344)           0         \n",
      "=================================================================\n",
      "Total params: 190,344\n",
      "Trainable params: 190,344\n",
      "Non-trainable params: 0\n",
      "_________________________________________________________________\n",
      "None\n",
      "Train on 110288 samples, validate on 27573 samples\n",
      "Epoch 1/10\n",
      "110288/110288 [==============================] - 10s 93us/step - loss: 2.7057 - acc: 0.4663 - val_loss: nan - val_acc: 0.5415\n",
      "Epoch 2/10\n",
      "110288/110288 [==============================] - 10s 88us/step - loss: 1.7791 - acc: 0.5720 - val_loss: nan - val_acc: 0.5912\n",
      "Epoch 3/10\n",
      "110288/110288 [==============================] - 10s 88us/step - loss: 1.5209 - acc: 0.6027 - val_loss: nan - val_acc: 0.6141\n",
      "Epoch 4/10\n",
      "110288/110288 [==============================] - 10s 88us/step - loss: 1.3990 - acc: 0.6204 - val_loss: nan - val_acc: 0.6269\n",
      "Epoch 5/10\n",
      "110288/110288 [==============================] - 10s 88us/step - loss: 1.3035 - acc: 0.6368 - val_loss: nan - val_acc: 0.6415\n",
      "Epoch 6/10\n",
      "110288/110288 [==============================] - 10s 88us/step - loss: 1.2244 - acc: 0.6490 - val_loss: nan - val_acc: 0.6534\n",
      "Epoch 7/10\n",
      "110288/110288 [==============================] - 10s 88us/step - loss: 1.1658 - acc: 0.6584 - val_loss: nan - val_acc: 0.6658\n",
      "Epoch 8/10\n",
      "110288/110288 [==============================] - 10s 88us/step - loss: 1.1219 - acc: 0.6656 - val_loss: nan - val_acc: 0.6698\n",
      "Epoch 9/10\n",
      "110288/110288 [==============================] - 10s 88us/step - loss: 1.0853 - acc: 0.6703 - val_loss: nan - val_acc: 0.6763\n",
      "Epoch 10/10\n",
      "110288/110288 [==============================] - 10s 89us/step - loss: 1.0546 - acc: 0.6748 - val_loss: nan - val_acc: 0.6746\n",
      "new jersey est parfois calme en mois et il est il est en <PAD> <PAD> <PAD> <PAD> <PAD> <PAD> <PAD> <PAD>\n"
     ]
    }
   ],
   "source": [
    "def simple_model(input_shape, output_sequence_length, english_vocab_size, french_vocab_size):\n",
    "    \"\"\"\n",
    "    Build and train a basic RNN on x and y\n",
    "    :param input_shape: Tuple of input shape\n",
    "    :param output_sequence_length: Length of output sequence\n",
    "    :param english_vocab_size: Number of unique English words in the dataset\n",
    "    :param french_vocab_size: Number of unique French words in the dataset\n",
    "    :return: Keras model built, but not trained\n",
    "    \"\"\"\n",
    "    # TODO: Build the layers\n",
    "    # Time distributed layer: https://keras.io/api/layers/recurrent_layers/time_distributed/\n",
    "    # https://machinelearningmastery.com/timedistributed-layer-for-long-short-term-memory-networks-in-python/\n",
    "    # https://medium.com/smileinnovation/how-to-work-with-time-distributed-data-in-a-neural-network-b8b39aa4ce00\n",
    "    # applies the same Dense layer to every time step.\n",
    "    learning_rate = 1e-3\n",
    "    \n",
    "    input_seq = Input(input_shape[1:])\n",
    "    rnn = GRU(units=200, return_sequences=True)(input_seq)\n",
    "    # As for the Dense layer size, we choose french_vocab_size because we want to activate the unit of the corresponding word in the output layer for translation. \n",
    "    logits = TimeDistributed(Dense(french_vocab_size))(rnn) \n",
    "    \n",
    "    model = Model(input_seq, Activation('softmax')(logits))\n",
    "    model.compile(loss=sparse_categorical_crossentropy,\n",
    "                  optimizer=Adam(learning_rate),\n",
    "                  metrics=['accuracy'])\n",
    "    return model\n",
    "\n",
    "tests.test_simple_model(simple_model)\n",
    "\n",
    "# Reshaping the input to work with a basic RNN\n",
    "tmp_x = pad(preproc_english_sentences, max_french_sequence_length)\n",
    "tmp_x = tmp_x.reshape((-1, preproc_french_sentences.shape[-2], 1)) #(batch_size, sequence_length, output_dim)\n",
    "\n",
    "# Train the neural network\n",
    "simple_rnn_model = simple_model(\n",
    "    tmp_x.shape,\n",
    "    max_french_sequence_length,\n",
    "    english_vocab_size,\n",
    "    french_vocab_size)\n",
    "print(simple_rnn_model.summary())\n",
    "simple_rnn_model.fit(tmp_x, preproc_french_sentences, batch_size=1024, epochs=10, validation_split=0.2)\n",
    "\n",
    "# Print prediction(s)\n",
    "print(logits_to_text(simple_rnn_model.predict(tmp_x[:1])[0], french_tokenizer))"
   ]
  },
  {
   "cell_type": "markdown",
   "metadata": {},
   "source": [
    "### Model 2: Embedding (IMPLEMENTATION)\n",
    "![RNN](images/embedding.png)\n",
    "You've turned the words into ids, but there's a better representation of a word.  This is called word embeddings.  An embedding is a vector representation of the word that is close to similar words in n-dimensional space, where the n represents the size of the embedding vectors.\n",
    "\n",
    "In this model, you'll create a RNN model using embedding."
   ]
  },
  {
   "cell_type": "code",
   "execution_count": 33,
   "metadata": {},
   "outputs": [
    {
     "name": "stdout",
     "output_type": "stream",
     "text": [
      "_________________________________________________________________\n",
      "Layer (type)                 Output Shape              Param #   \n",
      "=================================================================\n",
      "input_25 (InputLayer)        (None, 21)                0         \n",
      "_________________________________________________________________\n",
      "embedding_14 (Embedding)     (None, 21, 128)           25472     \n",
      "_________________________________________________________________\n",
      "gru_25 (GRU)                 (None, 21, 64)            37056     \n",
      "_________________________________________________________________\n",
      "time_distributed_24 (TimeDis (None, 21, 344)           22360     \n",
      "_________________________________________________________________\n",
      "activation_24 (Activation)   (None, 21, 344)           0         \n",
      "=================================================================\n",
      "Total params: 84,888\n",
      "Trainable params: 84,888\n",
      "Non-trainable params: 0\n",
      "_________________________________________________________________\n",
      "None\n",
      "Train on 110288 samples, validate on 27573 samples\n",
      "Epoch 1/10\n",
      "110288/110288 [==============================] - 9s 86us/step - loss: 3.6897 - acc: 0.4000 - val_loss: nan - val_acc: 0.4104\n",
      "Epoch 2/10\n",
      "110288/110288 [==============================] - 8s 73us/step - loss: 2.3582 - acc: 0.4994 - val_loss: nan - val_acc: 0.5836\n",
      "Epoch 3/10\n",
      "110288/110288 [==============================] - 8s 74us/step - loss: 1.5929 - acc: 0.6231 - val_loss: nan - val_acc: 0.6667\n",
      "Epoch 4/10\n",
      "110288/110288 [==============================] - 8s 74us/step - loss: 1.1634 - acc: 0.7120 - val_loss: nan - val_acc: 0.7497\n",
      "Epoch 5/10\n",
      "110288/110288 [==============================] - 8s 73us/step - loss: 0.9095 - acc: 0.7679 - val_loss: nan - val_acc: 0.7828\n",
      "Epoch 6/10\n",
      "110288/110288 [==============================] - 8s 73us/step - loss: 0.7664 - acc: 0.7965 - val_loss: nan - val_acc: 0.8063\n",
      "Epoch 7/10\n",
      "110288/110288 [==============================] - 8s 73us/step - loss: 0.6723 - acc: 0.8154 - val_loss: nan - val_acc: 0.8243\n",
      "Epoch 8/10\n",
      "110288/110288 [==============================] - 8s 73us/step - loss: 0.6035 - acc: 0.8303 - val_loss: nan - val_acc: 0.8376\n",
      "Epoch 9/10\n",
      "110288/110288 [==============================] - 8s 74us/step - loss: 0.5514 - acc: 0.8419 - val_loss: nan - val_acc: 0.8466\n",
      "Epoch 10/10\n",
      "110288/110288 [==============================] - 8s 74us/step - loss: 0.5095 - acc: 0.8524 - val_loss: nan - val_acc: 0.8535\n",
      "new jersey est parfois calme en l' et il il neigeux neigeux en avril <PAD> <PAD> <PAD> <PAD> <PAD> <PAD> <PAD>\n"
     ]
    }
   ],
   "source": [
    "def embed_model(input_shape, output_sequence_length, english_vocab_size, french_vocab_size):\n",
    "    \"\"\"\n",
    "    Build and train a RNN model using word embedding on x and y\n",
    "    :param input_shape: Tuple of input shape\n",
    "    :param output_sequence_length: Length of output sequence\n",
    "    :param english_vocab_size: Number of unique English words in the dataset\n",
    "    :param french_vocab_size: Number of unique French words in the dataset\n",
    "    :return: Keras model built, but not trained\n",
    "    \"\"\"\n",
    "    # TODO: Implement\n",
    "    learning_rate = 1e-3\n",
    "    embedding_size = 128\n",
    "    rnn_units = 64\n",
    "    \n",
    "    # Add layers to the model: input->embedding->rnn->denselayer->logits->softmax\n",
    "    input_seq = Input(input_shape[1:])\n",
    "    \n",
    "    embedding = Embedding(input_dim = english_vocab_size,\n",
    "                          output_dim = embedding_size,\n",
    "                          input_length = input_shape[1:][0])(input_seq)\n",
    "    rnn = GRU(units=rnn_units, return_sequences=True)(embedding)\n",
    "    logits = TimeDistributed(Dense(units=french_vocab_size))(rnn)\n",
    "    \n",
    "    model = Model(input_seq, Activation('softmax')(logits))\n",
    "    \n",
    "    # Compile Model\n",
    "    model.compile(loss=sparse_categorical_crossentropy,\n",
    "                  optimizer=Adam(lr=learning_rate),\n",
    "                  metrics=['accuracy'])\n",
    "    return model\n",
    "\n",
    "tests.test_embed_model(embed_model)\n",
    "\n",
    "# TODO: Reshape the input, input shape to embedding layer:(batch_size, sequence_length)\n",
    "tmp_x = pad(preproc_english_sentences, max_french_sequence_length)\n",
    "\n",
    "# TODO: Train the neural network\n",
    "embed_rnn_model = embed_model(\n",
    "    input_shape=tmp_x.shape,\n",
    "    output_sequence_length=max_french_sequence_length,\n",
    "    english_vocab_size=english_vocab_size,\n",
    "    french_vocab_size=french_vocab_size)\n",
    "print(embed_rnn_model.summary())\n",
    "embed_rnn_model.fit(tmp_x, preproc_french_sentences, batch_size=1024, epochs=10, validation_split=0.2)\n",
    "\n",
    "# TODO: Print prediction(s)\n",
    "print(logits_to_text(embed_rnn_model.predict(tmp_x[:1])[0], french_tokenizer))"
   ]
  },
  {
   "cell_type": "markdown",
   "metadata": {},
   "source": [
    "### Model 3: Bidirectional RNNs (IMPLEMENTATION)\n",
    "![RNN](images/bidirectional.png)\n",
    "One restriction of a RNN is that it can't see the future input, only the past.  This is where bidirectional recurrent neural networks come in.  They are able to see the future data."
   ]
  },
  {
   "cell_type": "code",
   "execution_count": 35,
   "metadata": {},
   "outputs": [
    {
     "name": "stdout",
     "output_type": "stream",
     "text": [
      "_________________________________________________________________\n",
      "Layer (type)                 Output Shape              Param #   \n",
      "=================================================================\n",
      "input_27 (InputLayer)        (None, 21, 1)             0         \n",
      "_________________________________________________________________\n",
      "bidirectional_11 (Bidirectio (None, 21, 400)           242400    \n",
      "_________________________________________________________________\n",
      "time_distributed_26 (TimeDis (None, 21, 344)           137944    \n",
      "_________________________________________________________________\n",
      "activation_26 (Activation)   (None, 21, 344)           0         \n",
      "=================================================================\n",
      "Total params: 380,344\n",
      "Trainable params: 380,344\n",
      "Non-trainable params: 0\n",
      "_________________________________________________________________\n",
      "None\n",
      "Train on 110288 samples, validate on 27573 samples\n",
      "Epoch 1/10\n",
      "110288/110288 [==============================] - 18s 159us/step - loss: 2.2710 - acc: 0.5374 - val_loss: nan - val_acc: 0.6090\n",
      "Epoch 2/10\n",
      "110288/110288 [==============================] - 16s 145us/step - loss: 1.4084 - acc: 0.6200 - val_loss: nan - val_acc: 0.6324\n",
      "Epoch 3/10\n",
      "110288/110288 [==============================] - 16s 145us/step - loss: 1.2544 - acc: 0.6453 - val_loss: nan - val_acc: 0.6577\n",
      "Epoch 4/10\n",
      "110288/110288 [==============================] - 16s 145us/step - loss: 1.1620 - acc: 0.6649 - val_loss: nan - val_acc: 0.6732\n",
      "Epoch 5/10\n",
      "110288/110288 [==============================] - 16s 145us/step - loss: 1.0922 - acc: 0.6783 - val_loss: nan - val_acc: 0.6848\n",
      "Epoch 6/10\n",
      "110288/110288 [==============================] - 16s 145us/step - loss: 1.0361 - acc: 0.6881 - val_loss: nan - val_acc: 0.6917\n",
      "Epoch 7/10\n",
      "110288/110288 [==============================] - 16s 145us/step - loss: 0.9878 - acc: 0.6961 - val_loss: nan - val_acc: 0.7010\n",
      "Epoch 8/10\n",
      "110288/110288 [==============================] - 16s 145us/step - loss: 0.9480 - acc: 0.7020 - val_loss: nan - val_acc: 0.7049\n",
      "Epoch 9/10\n",
      "110288/110288 [==============================] - 16s 146us/step - loss: 0.9140 - acc: 0.7070 - val_loss: nan - val_acc: 0.7084\n",
      "Epoch 10/10\n",
      "110288/110288 [==============================] - 16s 146us/step - loss: 0.8840 - acc: 0.7113 - val_loss: nan - val_acc: 0.7137\n",
      "new jersey est parfois calme en mois de il est est en en <PAD> <PAD> <PAD> <PAD> <PAD> <PAD> <PAD> <PAD>\n"
     ]
    }
   ],
   "source": [
    "def bd_model(input_shape, output_sequence_length, english_vocab_size, french_vocab_size):\n",
    "    \"\"\"\n",
    "    Build and train a bidirectional RNN model on x and y\n",
    "    :param input_shape: Tuple of input shape\n",
    "    :param output_sequence_length: Length of output sequence\n",
    "    :param english_vocab_size: Number of unique English words in the dataset\n",
    "    :param french_vocab_size: Number of unique French words in the dataset\n",
    "    :return: Keras model built, but not trained\n",
    "    \"\"\"\n",
    "    # TODO: Implement\n",
    "    learning_rate = 1e-3\n",
    "    rnn_units = 200\n",
    "    \n",
    "    input_seq = Input(input_shape[1:])\n",
    "    rnn = Bidirectional(GRU(units=rnn_units, return_sequences=True))(input_seq)\n",
    "    logits = TimeDistributed(Dense(units=french_vocab_size))(rnn)\n",
    "    \n",
    "    model = Model(input_seq, Activation('softmax')(logits))\n",
    "    model.compile(loss=sparse_categorical_crossentropy,\n",
    "                  optimizer=Adam(learning_rate),\n",
    "                  metrics=['accuracy'])\n",
    "    return model\n",
    "tests.test_bd_model(bd_model)\n",
    "\n",
    "# reshape input size\n",
    "tmp_x = pad(preproc_english_sentences, max_french_sequence_length)\n",
    "tmp_x = tmp_x.reshape((-1, preproc_french_sentences.shape[-2], 1))\n",
    "\n",
    "# TODO: Train and Print prediction(s)\n",
    "bidirectional_rnn_model = bd_model(\n",
    "    input_shape=tmp_x.shape,\n",
    "    output_sequence_length=max_french_sequence_length,\n",
    "    english_vocab_size=english_vocab_size,\n",
    "    french_vocab_size=french_vocab_size)\n",
    "print(bidirectional_rnn_model.summary())\n",
    "bidirectional_rnn_model.fit(tmp_x, preproc_french_sentences, batch_size=1024, epochs=10, validation_split=0.2)\n",
    "\n",
    "# TODO: Print prediction(s)\n",
    "print(logits_to_text(bidirectional_rnn_model.predict(tmp_x[:1])[0], french_tokenizer))"
   ]
  },
  {
   "cell_type": "code",
   "execution_count": 15,
   "metadata": {},
   "outputs": [
    {
     "data": {
      "text/plain": [
       "(137861, 21, 1)"
      ]
     },
     "execution_count": 15,
     "metadata": {},
     "output_type": "execute_result"
    }
   ],
   "source": [
    "preproc_french_sentences.shape"
   ]
  },
  {
   "cell_type": "code",
   "execution_count": 16,
   "metadata": {},
   "outputs": [
    {
     "data": {
      "text/plain": [
       "(137861, 21)"
      ]
     },
     "execution_count": 16,
     "metadata": {},
     "output_type": "execute_result"
    }
   ],
   "source": [
    "tmp_x.shape"
   ]
  },
  {
   "cell_type": "code",
   "execution_count": 34,
   "metadata": {},
   "outputs": [
    {
     "data": {
      "text/plain": [
       "array([[17, 23,  1,  8, 67,  4, 39,  7,  3,  1, 55,  2, 44,  0,  0,  0,  0,\n",
       "         0,  0,  0,  0]], dtype=int32)"
      ]
     },
     "execution_count": 34,
     "metadata": {},
     "output_type": "execute_result"
    }
   ],
   "source": [
    "tmp_x[:1]"
   ]
  },
  {
   "cell_type": "code",
   "execution_count": null,
   "metadata": {},
   "outputs": [],
   "source": [
    "tmp_x[0]"
   ]
  },
  {
   "cell_type": "markdown",
   "metadata": {},
   "source": [
    "### Model 4: Encoder-Decoder (OPTIONAL)\n",
    "Time to look at encoder-decoder models.  This model is made up of an encoder and decoder. The encoder creates a matrix representation of the sentence.  The decoder takes this matrix as input and predicts the translation as output.\n",
    "\n",
    "\"… RNN Encoder-Decoder, consists of two recurrent neural networks (RNN) that act as an encoder and a decoder pair. The encoder maps a variable-length source sequence to a fixed-length vector, and the decoder maps the vector representation back to a variable-length target sequence.\n",
    "\n",
    "— Learning Phrase Representations using RNN Encoder-Decoder for Statistical Machine Translation, 2014.\"\n",
    "\n",
    "Differences between ```return sequences``` and ```return states``` for LSTMs in keras\n",
    "https://machinelearningmastery.com/return-sequences-and-return-states-for-lstms-in-keras/:\n",
    "\n",
    "- return sequences return the hidden state output for each input time step.\n",
    "    \n",
    "- return state returns the hidden state output and cell state for the last input time step.\n",
    "    \n",
    "- return sequences and return state can be used at the same time.\n",
    "\n",
    "Create an encoder-decoder model in the cell below."
   ]
  },
  {
   "cell_type": "markdown",
   "metadata": {},
   "source": [
    "**Note on Keras**:\n",
    "\n",
    "There are various ways to give input to decoder. Largely two ways are consider\n",
    "\n",
    "Give the final context vector of encoder as the same input vector to all decoder cells\n",
    "Give each encoder cells output to each decoder cells via 1:1 mapping. i.e. first encoders output goes to first decoder inputs.\n",
    "Here we consider the first scenario where each decoder gets the same context vector as input.\n",
    "\n",
    "Here is an example of usage of repeat vector\n",
    "\n",
    "```\n",
    "dim = 256\n",
    "enc_rnn = LSTM(dim)\n",
    "repeat_enc_representation = RepeatVector(output_sequence_length)\n",
    "dec_rnn = LSTM(dim, return_sequences = True)\n",
    "```\n",
    "Now what is happening over here is that each encoder output is 256 dimensional ...Since we have return_sequences as False set in LSTM, enc_rnn has just one final context vector.\n",
    "\n",
    "Now RepeatVector's argument output_sequence_length specifies the number of times to repeat the input.\n",
    "\n",
    "Now as decoder takes a (num_time_steps, num_dimension) format, in this case this will be (output_sequence_length,dim).\n",
    "\n"
   ]
  },
  {
   "cell_type": "code",
   "execution_count": 40,
   "metadata": {
    "scrolled": false
   },
   "outputs": [
    {
     "name": "stdout",
     "output_type": "stream",
     "text": [
      "__________________________________________________________________________________________________\n",
      "Layer (type)                    Output Shape         Param #     Connected to                     \n",
      "==================================================================================================\n",
      "input_32 (InputLayer)           (None, 21, 1)        0                                            \n",
      "__________________________________________________________________________________________________\n",
      "lstm_8 (LSTM)                   [(None, 500), (None, 1004000     input_32[0][0]                   \n",
      "__________________________________________________________________________________________________\n",
      "repeat_vector_5 (RepeatVector)  (None, 21, 500)      0           lstm_8[0][0]                     \n",
      "__________________________________________________________________________________________________\n",
      "lstm_9 (LSTM)                   (None, 21, 500)      2002000     repeat_vector_5[0][0]            \n",
      "                                                                 lstm_8[0][1]                     \n",
      "                                                                 lstm_8[0][2]                     \n",
      "__________________________________________________________________________________________________\n",
      "time_distributed_30 (TimeDistri (None, 21, 344)      172344      lstm_9[0][0]                     \n",
      "__________________________________________________________________________________________________\n",
      "activation_30 (Activation)      (None, 21, 344)      0           time_distributed_30[0][0]        \n",
      "==================================================================================================\n",
      "Total params: 3,178,344\n",
      "Trainable params: 3,178,344\n",
      "Non-trainable params: 0\n",
      "__________________________________________________________________________________________________\n",
      "None\n",
      "Train on 110288 samples, validate on 27573 samples\n",
      "Epoch 1/40\n",
      "110288/110288 [==============================] - 51s 459us/step - loss: 2.3120 - acc: 0.5102 - val_loss: nan - val_acc: 0.5529\n",
      "Epoch 2/40\n",
      "110288/110288 [==============================] - 49s 440us/step - loss: 1.5370 - acc: 0.5870 - val_loss: nan - val_acc: 0.6045\n",
      "Epoch 3/40\n",
      "110288/110288 [==============================] - 49s 440us/step - loss: 1.3376 - acc: 0.6211 - val_loss: nan - val_acc: 0.6327\n",
      "Epoch 4/40\n",
      "110288/110288 [==============================] - 49s 440us/step - loss: 1.2416 - acc: 0.6347 - val_loss: nan - val_acc: 0.6428\n",
      "Epoch 5/40\n",
      "110288/110288 [==============================] - 49s 440us/step - loss: 1.1558 - acc: 0.6487 - val_loss: nan - val_acc: 0.6602\n",
      "Epoch 6/40\n",
      "110288/110288 [==============================] - 49s 440us/step - loss: 1.0772 - acc: 0.6608 - val_loss: nan - val_acc: 0.6704\n",
      "Epoch 7/40\n",
      "110288/110288 [==============================] - 49s 441us/step - loss: 1.0356 - acc: 0.6681 - val_loss: nan - val_acc: 0.6007\n",
      "Epoch 8/40\n",
      "110288/110288 [==============================] - 48s 439us/step - loss: 1.0288 - acc: 0.6694 - val_loss: nan - val_acc: 0.6784\n",
      "Epoch 9/40\n",
      "110288/110288 [==============================] - 48s 439us/step - loss: 0.9455 - acc: 0.6866 - val_loss: nan - val_acc: 0.6919\n",
      "Epoch 10/40\n",
      "110288/110288 [==============================] - 49s 440us/step - loss: 0.9364 - acc: 0.6847 - val_loss: nan - val_acc: 0.6968\n",
      "Epoch 11/40\n",
      "110288/110288 [==============================] - 49s 441us/step - loss: 0.9086 - acc: 0.6917 - val_loss: nan - val_acc: 0.6988\n",
      "Epoch 12/40\n",
      "110288/110288 [==============================] - 49s 441us/step - loss: 0.8577 - acc: 0.7032 - val_loss: nan - val_acc: 0.7226\n",
      "Epoch 13/40\n",
      "110288/110288 [==============================] - 49s 440us/step - loss: 0.8431 - acc: 0.7057 - val_loss: nan - val_acc: 0.6949\n",
      "Epoch 14/40\n",
      "110288/110288 [==============================] - 48s 440us/step - loss: 0.8300 - acc: 0.7080 - val_loss: nan - val_acc: 0.7039\n",
      "Epoch 15/40\n",
      "110288/110288 [==============================] - 48s 437us/step - loss: 0.7667 - acc: 0.7294 - val_loss: nan - val_acc: 0.7484\n",
      "Epoch 16/40\n",
      "110288/110288 [==============================] - 48s 437us/step - loss: 0.7443 - acc: 0.7356 - val_loss: nan - val_acc: 0.7451\n",
      "Epoch 17/40\n",
      "110288/110288 [==============================] - 49s 440us/step - loss: 0.7490 - acc: 0.7343 - val_loss: nan - val_acc: 0.7725\n",
      "Epoch 18/40\n",
      "110288/110288 [==============================] - 49s 440us/step - loss: 0.6924 - acc: 0.7542 - val_loss: nan - val_acc: 0.7600\n",
      "Epoch 19/40\n",
      "110288/110288 [==============================] - 49s 441us/step - loss: 0.6725 - acc: 0.7610 - val_loss: nan - val_acc: 0.7643\n",
      "Epoch 20/40\n",
      "110288/110288 [==============================] - 49s 441us/step - loss: 0.6104 - acc: 0.7821 - val_loss: nan - val_acc: 0.8041\n",
      "Epoch 21/40\n",
      "110288/110288 [==============================] - 49s 441us/step - loss: 0.6321 - acc: 0.7732 - val_loss: nan - val_acc: 0.7765\n",
      "Epoch 22/40\n",
      "110288/110288 [==============================] - 49s 441us/step - loss: 0.6020 - acc: 0.7845 - val_loss: nan - val_acc: 0.7947\n",
      "Epoch 23/40\n",
      "110288/110288 [==============================] - 49s 440us/step - loss: 0.5545 - acc: 0.7987 - val_loss: nan - val_acc: 0.8215\n",
      "Epoch 24/40\n",
      "110288/110288 [==============================] - 49s 440us/step - loss: 0.5580 - acc: 0.7996 - val_loss: nan - val_acc: 0.7610\n",
      "Epoch 25/40\n",
      "110288/110288 [==============================] - 49s 440us/step - loss: 0.5542 - acc: 0.8004 - val_loss: nan - val_acc: 0.8268\n",
      "Epoch 26/40\n",
      "110288/110288 [==============================] - 49s 440us/step - loss: 0.5448 - acc: 0.8062 - val_loss: nan - val_acc: 0.8286\n",
      "Epoch 27/40\n",
      "110288/110288 [==============================] - 49s 440us/step - loss: 0.4943 - acc: 0.8186 - val_loss: nan - val_acc: 0.8325\n",
      "Epoch 28/40\n",
      "110288/110288 [==============================] - 49s 440us/step - loss: 0.4572 - acc: 0.8354 - val_loss: nan - val_acc: 0.8127\n",
      "Epoch 29/40\n",
      "110288/110288 [==============================] - 49s 440us/step - loss: 0.4722 - acc: 0.8273 - val_loss: nan - val_acc: 0.8323\n",
      "Epoch 30/40\n",
      "110288/110288 [==============================] - 49s 440us/step - loss: 0.4479 - acc: 0.8411 - val_loss: nan - val_acc: 0.8341\n",
      "Epoch 31/40\n",
      "110288/110288 [==============================] - 48s 440us/step - loss: 0.4484 - acc: 0.8335 - val_loss: nan - val_acc: 0.8389\n",
      "Epoch 32/40\n",
      "110288/110288 [==============================] - 49s 441us/step - loss: 0.5082 - acc: 0.8175 - val_loss: nan - val_acc: 0.8249\n",
      "Epoch 33/40\n",
      "110288/110288 [==============================] - 49s 440us/step - loss: 0.4091 - acc: 0.8511 - val_loss: nan - val_acc: 0.8802\n",
      "Epoch 34/40\n",
      "110288/110288 [==============================] - 49s 440us/step - loss: 0.3944 - acc: 0.8593 - val_loss: nan - val_acc: 0.8777\n",
      "Epoch 35/40\n",
      "110288/110288 [==============================] - 49s 440us/step - loss: 0.4548 - acc: 0.8397 - val_loss: nan - val_acc: 0.8590\n",
      "Epoch 36/40\n",
      "110288/110288 [==============================] - 49s 440us/step - loss: 0.3698 - acc: 0.8663 - val_loss: nan - val_acc: 0.8834\n",
      "Epoch 37/40\n",
      "110288/110288 [==============================] - 48s 440us/step - loss: 0.3557 - acc: 0.8685 - val_loss: nan - val_acc: 0.8848\n",
      "Epoch 38/40\n",
      "110288/110288 [==============================] - 48s 440us/step - loss: 0.2738 - acc: 0.9044 - val_loss: nan - val_acc: 0.8638\n",
      "Epoch 39/40\n",
      "110288/110288 [==============================] - 49s 440us/step - loss: 0.4249 - acc: 0.8548 - val_loss: nan - val_acc: 0.8307\n",
      "Epoch 40/40\n",
      "110288/110288 [==============================] - 48s 440us/step - loss: 0.4317 - acc: 0.8440 - val_loss: nan - val_acc: 0.8912\n",
      "new jersey est parfois calme pendant l' automne et il est neigeux en avril <PAD> <PAD> <PAD> <PAD> <PAD> <PAD> <PAD>\n"
     ]
    }
   ],
   "source": [
    "def encdec_model(input_shape, output_sequence_length, english_vocab_size, french_vocab_size):\n",
    "    \"\"\"\n",
    "    Build and train an encoder-decoder model on x and y\n",
    "    :param input_shape: Tuple of input shape\n",
    "    :param output_sequence_length: Length of output sequence\n",
    "    :param english_vocab_size: Number of unique English words in the dataset\n",
    "    :param french_vocab_size: Number of unique French words in the dataset\n",
    "    :return: Keras model built, but not trained\n",
    "    \"\"\"\n",
    "    # OPTIONAL: Implement\n",
    "    from keras.layers import LSTM\n",
    "    \n",
    "    # Hyperparameters\n",
    "    learning_rate = 1e-3\n",
    "    lstm_units = 500\n",
    "    \n",
    "    # Encoder: https://keras.io/guides/working_with_rnns/\n",
    "    encoder_input_seq = Input(shape=input_shape[1:])\n",
    "    encoder_output, state_h, state_c = LSTM(units=lstm_units,\n",
    "                                           return_sequences=False,\n",
    "                                           return_state=True)(encoder_input_seq, initial_state=None)\n",
    "            # or for GRU cells, encoder_output, state_t = GRU(...)\n",
    "    encoder_state = [state_h, state_c]\n",
    "    \n",
    "    # Decoder\n",
    "    # input RepeatVector: https://keras.io/api/layers/reshaping_layers/repeat_vector/\n",
    "    decoder_input_seq = RepeatVector(output_sequence_length)(encoder_output)\n",
    "    decoder_output = LSTM(units=lstm_units,\n",
    "                       return_sequences=True,\n",
    "                       return_state=False)(decoder_input_seq, initial_state=encoder_state)\n",
    "    logits = TimeDistributed(Dense(units=french_vocab_size))(decoder_output)\n",
    "    \n",
    "    # Model \n",
    "    model = Model(inputs=encoder_input_seq, \n",
    "                  outputs=Activation('softmax')(logits))\n",
    "    model.compile(loss=sparse_categorical_crossentropy,\n",
    "                  optimizer=Adam(lr=learning_rate),\n",
    "                  metrics=['accuracy'])\n",
    "    return model\n",
    "    \n",
    "tests.test_encdec_model(encdec_model)\n",
    "\n",
    "# TODO: Train and Print prediction(s)\n",
    "tmp_x = pad(preproc_english_sentences, max_french_sequence_length)\n",
    "tmp_x = tmp_x.reshape((-1, preproc_french_sentences.shape[-2], 1))\n",
    "\n",
    "encdec_rnn_model = encdec_model(\n",
    "    tmp_x.shape,\n",
    "    max_french_sequence_length,\n",
    "    english_vocab_size,\n",
    "    french_vocab_size)\n",
    "print(encdec_rnn_model.summary())\n",
    "\n",
    "encdec_rnn_model.fit(tmp_x, preproc_french_sentences, batch_size=1024, epochs=40, validation_split=0.2)\n",
    "\n",
    "# Prediction\n",
    "print(logits_to_text(encdec_rnn_model.predict(tmp_x[:1])[0], french_tokenizer))"
   ]
  },
  {
   "cell_type": "markdown",
   "metadata": {},
   "source": [
    "### Model 5: Custom (IMPLEMENTATION)\n",
    "Use everything you learned from the previous models to create a model that incorporates embedding and a bidirectional rnn into one model."
   ]
  },
  {
   "cell_type": "code",
   "execution_count": 35,
   "metadata": {},
   "outputs": [
    {
     "name": "stdout",
     "output_type": "stream",
     "text": [
      "Final Model Loaded\n",
      "__________________________________________________________________________________________________\n",
      "Layer (type)                    Output Shape         Param #     Connected to                     \n",
      "==================================================================================================\n",
      "input_29 (InputLayer)           (None, 21)           0                                            \n",
      "__________________________________________________________________________________________________\n",
      "embedding_29 (Embedding)        (None, 21, 256)      51200       input_29[0][0]                   \n",
      "__________________________________________________________________________________________________\n",
      "lstm_71 (LSTM)                  [(None, 300), (None, 668400      embedding_29[0][0]               \n",
      "__________________________________________________________________________________________________\n",
      "lstm_72 (LSTM)                  [(None, 300), (None, 668400      embedding_29[0][0]               \n",
      "__________________________________________________________________________________________________\n",
      "concatenate_73 (Concatenate)    (None, 600)          0           lstm_71[0][0]                    \n",
      "                                                                 lstm_72[0][0]                    \n",
      "__________________________________________________________________________________________________\n",
      "repeat_vector_23 (RepeatVector) (None, 21, 600)      0           concatenate_73[0][0]             \n",
      "__________________________________________________________________________________________________\n",
      "concatenate_71 (Concatenate)    (None, 600)          0           lstm_71[0][1]                    \n",
      "                                                                 lstm_72[0][1]                    \n",
      "__________________________________________________________________________________________________\n",
      "concatenate_72 (Concatenate)    (None, 600)          0           lstm_71[0][2]                    \n",
      "                                                                 lstm_72[0][2]                    \n",
      "__________________________________________________________________________________________________\n",
      "lstm_73 (LSTM)                  (None, 21, 600)      2882400     repeat_vector_23[0][0]           \n",
      "                                                                 concatenate_71[0][0]             \n",
      "                                                                 concatenate_72[0][0]             \n",
      "__________________________________________________________________________________________________\n",
      "time_distributed_11 (TimeDistri (None, 21, 344)      206744      lstm_73[0][0]                    \n",
      "__________________________________________________________________________________________________\n",
      "activation_10 (Activation)      (None, 21, 344)      0           time_distributed_11[0][0]        \n",
      "==================================================================================================\n",
      "Total params: 4,477,144\n",
      "Trainable params: 4,477,144\n",
      "Non-trainable params: 0\n",
      "__________________________________________________________________________________________________\n",
      "None\n",
      "Train on 110288 samples, validate on 27573 samples\n",
      "Epoch 1/20\n",
      "110288/110288 [==============================] - 74s 675us/step - loss: 2.5812 - acc: 0.4793 - val_loss: nan - val_acc: 0.5618\n",
      "Epoch 2/20\n",
      "110288/110288 [==============================] - 71s 643us/step - loss: 1.4802 - acc: 0.6073 - val_loss: nan - val_acc: 0.6468\n",
      "Epoch 3/20\n",
      "110288/110288 [==============================] - 71s 644us/step - loss: 1.1533 - acc: 0.6824 - val_loss: nan - val_acc: 0.7182\n",
      "Epoch 4/20\n",
      "110288/110288 [==============================] - 71s 645us/step - loss: 0.9231 - acc: 0.7328 - val_loss: nan - val_acc: 0.7560\n",
      "Epoch 5/20\n",
      "110288/110288 [==============================] - 71s 642us/step - loss: 0.7471 - acc: 0.7772 - val_loss: nan - val_acc: 0.8040\n",
      "Epoch 6/20\n",
      "110288/110288 [==============================] - 71s 641us/step - loss: 0.6241 - acc: 0.8114 - val_loss: nan - val_acc: 0.8417\n",
      "Epoch 7/20\n",
      "110288/110288 [==============================] - 71s 642us/step - loss: 0.4685 - acc: 0.8596 - val_loss: nan - val_acc: 0.8878\n",
      "Epoch 8/20\n",
      "110288/110288 [==============================] - 71s 645us/step - loss: 0.3494 - acc: 0.8984 - val_loss: nan - val_acc: 0.9181\n",
      "Epoch 9/20\n",
      "110288/110288 [==============================] - 71s 642us/step - loss: 0.2732 - acc: 0.9215 - val_loss: nan - val_acc: 0.9358\n",
      "Epoch 10/20\n",
      "110288/110288 [==============================] - 71s 642us/step - loss: 0.2196 - acc: 0.9366 - val_loss: nan - val_acc: 0.9479\n",
      "Epoch 11/20\n",
      "110288/110288 [==============================] - 71s 642us/step - loss: 0.1741 - acc: 0.9492 - val_loss: nan - val_acc: 0.9505\n",
      "Epoch 12/20\n",
      "110288/110288 [==============================] - 71s 645us/step - loss: 0.1535 - acc: 0.9547 - val_loss: nan - val_acc: 0.9549\n",
      "Epoch 13/20\n",
      "110288/110288 [==============================] - 71s 643us/step - loss: 0.1305 - acc: 0.9612 - val_loss: nan - val_acc: 0.9610\n",
      "Epoch 14/20\n",
      "110288/110288 [==============================] - 71s 641us/step - loss: 0.1167 - acc: 0.9649 - val_loss: nan - val_acc: 0.9632\n",
      "Epoch 15/20\n",
      "110288/110288 [==============================] - 71s 643us/step - loss: 0.1037 - acc: 0.9687 - val_loss: nan - val_acc: 0.9681\n",
      "Epoch 16/20\n",
      "110288/110288 [==============================] - 71s 645us/step - loss: 0.0923 - acc: 0.9723 - val_loss: nan - val_acc: 0.9688\n",
      "Epoch 17/20\n",
      "110288/110288 [==============================] - 71s 642us/step - loss: 0.0875 - acc: 0.9734 - val_loss: nan - val_acc: 0.9707\n",
      "Epoch 18/20\n",
      "110288/110288 [==============================] - 71s 641us/step - loss: 0.0783 - acc: 0.9764 - val_loss: nan - val_acc: 0.9741\n",
      "Epoch 19/20\n",
      "110288/110288 [==============================] - 71s 642us/step - loss: 0.0792 - acc: 0.9763 - val_loss: nan - val_acc: 0.9725\n",
      "Epoch 20/20\n",
      "110288/110288 [==============================] - 71s 645us/step - loss: 0.0693 - acc: 0.9791 - val_loss: nan - val_acc: 0.9775\n",
      "new jersey est parfois calme pendant l' automne et il est neigeux en avril <PAD> <PAD> <PAD> <PAD> <PAD> <PAD> <PAD>\n"
     ]
    }
   ],
   "source": [
    "def model_final(input_shape, output_sequence_length, english_vocab_size, french_vocab_size):\n",
    "    \"\"\"\n",
    "    Build and train a model that incorporates embedding, encoder-decoder, and bidirectional RNN on x and y\n",
    "    :param input_shape: Tuple of input shape\n",
    "    :param output_sequence_length: Length of output sequence\n",
    "    :param english_vocab_size: Number of unique English words in the dataset\n",
    "    :param french_vocab_size: Number of unique French words in the dataset\n",
    "    :return: Keras model built, but not trained\n",
    "    \"\"\"\n",
    "    # TODO: Implement\n",
    "    from keras.layers import LSTM, concatenate\n",
    "    \n",
    "    # Hyperparameters\n",
    "    learning_rate = 1e-3\n",
    "    embedding_input_size = 200\n",
    "    embedding_size = 256\n",
    "    lstm_units = 300\n",
    "    dropout = 0.2\n",
    "    \n",
    "    # Input --> Encoder --> Embedding --> bidirectional LSTM layers --> Encoder output --> Decoder input --> Decoder RNN --> Decoder output\n",
    "    # https://keras.io/api/layers/recurrent_layers/bidirectional/\n",
    "    \n",
    "    # ENCODER\n",
    "    encoder_input_seq = Input(shape=input_shape[1:])\n",
    "    encoder_embedding_seq = Embedding(input_dim=embedding_input_size,\n",
    "                                  output_dim=embedding_size,\n",
    "                                  input_length = input_shape[1:][0])(encoder_input_seq)    \n",
    "    # forward LSTM layer\n",
    "    forward_encoder_output, forward_state_h, forward_state_c = LSTM(units=lstm_units,\n",
    "                                               dropout=dropout,\n",
    "                                               return_sequences=False,\n",
    "                                               return_state=True,\n",
    "                                               go_backwards=False)(encoder_embedding_seq)\n",
    "    # backward LSTM layer\n",
    "    backward_encoder_output, backward_state_h, backward_state_c = LSTM(units=lstm_units,\n",
    "                                               dropout=dropout,\n",
    "                                               return_sequences=False,\n",
    "                                               return_state=True,\n",
    "                                               go_backwards=True)(encoder_embedding_seq)\n",
    "    # *Can also use Keras Bidirectional layer wrappers Bidirection(LSTM(...), mode='concatenate')\n",
    "    # concatenate 2 LSTM's outputs and states\n",
    "    state_h = concatenate([forward_state_h, backward_state_h])\n",
    "    state_c = concatenate([forward_state_c, backward_state_c])\n",
    "    encoder_output = concatenate([forward_encoder_output, backward_encoder_output])\n",
    "    \n",
    "    # DECODER\n",
    "    decoder_input_seq = RepeatVector(output_sequence_length)(encoder_output)\n",
    "    # decoder LSTM layer\n",
    "    decoder_output = LSTM(\n",
    "                      units=lstm_units * 2,\n",
    "                      return_sequences=True,\n",
    "                      return_state=False)(decoder_input_seq, initial_state=[state_h, state_c])\n",
    "    # Dense layer to get logits\n",
    "    logits = TimeDistributed(Dense(units=french_vocab_size))(decoder_output)\n",
    "    \n",
    "    # Model\n",
    "    model = Model(encoder_input_seq, Activation('softmax')(logits))\n",
    "    model.compile(loss=sparse_categorical_crossentropy,\n",
    "                  optimizer=Adam(learning_rate),\n",
    "                  metrics=['accuracy'])\n",
    "    \n",
    "    return model\n",
    "\n",
    "tests.test_model_final(model_final)\n",
    "\n",
    "print('Final Model Loaded')\n",
    "\n",
    "tmp_x = pad(preproc_english_sentences, max_french_sequence_length) # directly input into embedding layer\n",
    "#tmp_x = tmp_x.reshape((-1, preproc_french_sentences.shape[-2], 1))\n",
    "\n",
    "final_model = model_final(\n",
    "    tmp_x.shape,\n",
    "    max_french_sequence_length,\n",
    "    english_vocab_size,\n",
    "    french_vocab_size)\n",
    "print(final_model.summary())\n",
    "final_model.fit(tmp_x, preproc_french_sentences, batch_size=1024, epochs=20, validation_split=0.2)\n",
    "\n",
    "print(logits_to_text(final_model.predict(tmp_x[:1])[0], french_tokenizer))"
   ]
  },
  {
   "cell_type": "markdown",
   "metadata": {},
   "source": [
    "## Prediction (IMPLEMENTATION)"
   ]
  },
  {
   "cell_type": "code",
   "execution_count": 36,
   "metadata": {},
   "outputs": [
    {
     "name": "stdout",
     "output_type": "stream",
     "text": [
      "__________________________________________________________________________________________________\n",
      "Layer (type)                    Output Shape         Param #     Connected to                     \n",
      "==================================================================================================\n",
      "input_30 (InputLayer)           (None, 15)           0                                            \n",
      "__________________________________________________________________________________________________\n",
      "embedding_30 (Embedding)        (None, 15, 256)      51200       input_30[0][0]                   \n",
      "__________________________________________________________________________________________________\n",
      "lstm_74 (LSTM)                  [(None, 300), (None, 668400      embedding_30[0][0]               \n",
      "__________________________________________________________________________________________________\n",
      "lstm_75 (LSTM)                  [(None, 300), (None, 668400      embedding_30[0][0]               \n",
      "__________________________________________________________________________________________________\n",
      "concatenate_76 (Concatenate)    (None, 600)          0           lstm_74[0][0]                    \n",
      "                                                                 lstm_75[0][0]                    \n",
      "__________________________________________________________________________________________________\n",
      "repeat_vector_24 (RepeatVector) (None, 21, 600)      0           concatenate_76[0][0]             \n",
      "__________________________________________________________________________________________________\n",
      "concatenate_74 (Concatenate)    (None, 600)          0           lstm_74[0][1]                    \n",
      "                                                                 lstm_75[0][1]                    \n",
      "__________________________________________________________________________________________________\n",
      "concatenate_75 (Concatenate)    (None, 600)          0           lstm_74[0][2]                    \n",
      "                                                                 lstm_75[0][2]                    \n",
      "__________________________________________________________________________________________________\n",
      "lstm_76 (LSTM)                  (None, 21, 600)      2882400     repeat_vector_24[0][0]           \n",
      "                                                                 concatenate_74[0][0]             \n",
      "                                                                 concatenate_75[0][0]             \n",
      "__________________________________________________________________________________________________\n",
      "time_distributed_12 (TimeDistri (None, 21, 344)      206744      lstm_76[0][0]                    \n",
      "__________________________________________________________________________________________________\n",
      "activation_11 (Activation)      (None, 21, 344)      0           time_distributed_12[0][0]        \n",
      "==================================================================================================\n",
      "Total params: 4,477,144\n",
      "Trainable params: 4,477,144\n",
      "Non-trainable params: 0\n",
      "__________________________________________________________________________________________________\n",
      "None\n",
      "Train on 110288 samples, validate on 27573 samples\n",
      "Epoch 1/20\n",
      "110288/110288 [==============================] - 66s 602us/step - loss: 2.7453 - acc: 0.4621 - val_loss: nan - val_acc: 0.5457\n",
      "Epoch 2/20\n",
      "110288/110288 [==============================] - 63s 571us/step - loss: 1.5793 - acc: 0.5885 - val_loss: nan - val_acc: 0.6320\n",
      "Epoch 3/20\n",
      "110288/110288 [==============================] - 63s 572us/step - loss: 1.1923 - acc: 0.6743 - val_loss: nan - val_acc: 0.7058\n",
      "Epoch 4/20\n",
      "110288/110288 [==============================] - 63s 573us/step - loss: 0.9864 - acc: 0.7169 - val_loss: nan - val_acc: 0.7342\n",
      "Epoch 5/20\n",
      "110288/110288 [==============================] - 63s 570us/step - loss: 0.8128 - acc: 0.7589 - val_loss: nan - val_acc: 0.7833\n",
      "Epoch 6/20\n",
      "110288/110288 [==============================] - 63s 570us/step - loss: 0.6965 - acc: 0.7903 - val_loss: nan - val_acc: 0.8247\n",
      "Epoch 7/20\n",
      "110288/110288 [==============================] - 63s 570us/step - loss: 0.5275 - acc: 0.8395 - val_loss: nan - val_acc: 0.8654\n",
      "Epoch 8/20\n",
      "110288/110288 [==============================] - 63s 572us/step - loss: 0.4016 - acc: 0.8796 - val_loss: nan - val_acc: 0.9056\n",
      "Epoch 9/20\n",
      "110288/110288 [==============================] - 63s 570us/step - loss: 0.3013 - acc: 0.9138 - val_loss: nan - val_acc: 0.9306\n",
      "Epoch 10/20\n",
      "110288/110288 [==============================] - 63s 569us/step - loss: 0.2346 - acc: 0.9340 - val_loss: nan - val_acc: 0.9445\n",
      "Epoch 11/20\n",
      "110288/110288 [==============================] - 63s 570us/step - loss: 0.1902 - acc: 0.9459 - val_loss: nan - val_acc: 0.9523\n",
      "Epoch 12/20\n",
      "110288/110288 [==============================] - 63s 572us/step - loss: 0.1761 - acc: 0.9485 - val_loss: nan - val_acc: 0.9567\n",
      "Epoch 13/20\n",
      "110288/110288 [==============================] - 63s 570us/step - loss: 0.1377 - acc: 0.9597 - val_loss: nan - val_acc: 0.9608\n",
      "Epoch 14/20\n",
      "110288/110288 [==============================] - 63s 570us/step - loss: 0.1226 - acc: 0.9638 - val_loss: nan - val_acc: 0.9632\n",
      "Epoch 15/20\n",
      "110288/110288 [==============================] - 63s 570us/step - loss: 0.1074 - acc: 0.9681 - val_loss: nan - val_acc: 0.9670\n",
      "Epoch 16/20\n",
      "110288/110288 [==============================] - 63s 572us/step - loss: 0.0966 - acc: 0.9711 - val_loss: nan - val_acc: 0.9685\n",
      "Epoch 17/20\n",
      "110288/110288 [==============================] - 63s 570us/step - loss: 0.0916 - acc: 0.9726 - val_loss: nan - val_acc: 0.9721\n",
      "Epoch 18/20\n",
      "110288/110288 [==============================] - 63s 570us/step - loss: 0.0787 - acc: 0.9766 - val_loss: nan - val_acc: 0.9738\n",
      "Epoch 19/20\n",
      "110288/110288 [==============================] - 63s 570us/step - loss: 0.0780 - acc: 0.9766 - val_loss: nan - val_acc: 0.9741\n",
      "Epoch 20/20\n",
      "110288/110288 [==============================] - 63s 572us/step - loss: 0.0693 - acc: 0.9792 - val_loss: nan - val_acc: 0.9755\n",
      "Sample 1:\n",
      "il a vu un vieux camion jaune <PAD> <PAD> <PAD> <PAD> <PAD> <PAD> <PAD> <PAD> <PAD> <PAD> <PAD> <PAD> <PAD> <PAD>\n",
      "Il a vu un vieux camion jaune\n",
      "Sample 2:\n",
      "new jersey est parfois calme pendant l' automne et il est neigeux en avril <PAD> <PAD> <PAD> <PAD> <PAD> <PAD> <PAD>\n",
      "new jersey est parfois calme pendant l' automne et il est neigeux en avril <PAD> <PAD> <PAD> <PAD> <PAD> <PAD> <PAD>\n"
     ]
    }
   ],
   "source": [
    "def final_predictions(x, y, x_tk, y_tk):\n",
    "    \"\"\"\n",
    "    Gets predictions using the final model\n",
    "    :param x: Preprocessed English data\n",
    "    :param y: Preprocessed French data\n",
    "    :param x_tk: English tokenizer\n",
    "    :param y_tk: French tokenizer\n",
    "    \"\"\"\n",
    "    # TODO: Train neural network using model_final\n",
    "    \n",
    "    model = model_final(input_shape=x.shape, \n",
    "                        output_sequence_length = y.shape[1], \n",
    "                        english_vocab_size = len(x_tk.word_index), \n",
    "                        french_vocab_size = len(y_tk.word_index))\n",
    "    print(model.summary())\n",
    "    model.fit(x, y, batch_size=1024, epochs=20, validation_split=0.2)\n",
    "\n",
    "    ## DON'T EDIT ANYTHING BELOW THIS LINE\n",
    "    y_id_to_word = {value: key for key, value in y_tk.word_index.items()}\n",
    "    y_id_to_word[0] = '<PAD>'\n",
    "\n",
    "    sentence = 'he saw a old yellow truck'\n",
    "    sentence = [x_tk.word_index[word] for word in sentence.split()]\n",
    "    sentence = pad_sequences([sentence], maxlen=x.shape[-1], padding='post')\n",
    "    sentences = np.array([sentence[0], x[0]])\n",
    "    predictions = model.predict(sentences, len(sentences))\n",
    "\n",
    "    print('Sample 1:')\n",
    "    print(' '.join([y_id_to_word[np.argmax(x)] for x in predictions[0]]))\n",
    "    print('Il a vu un vieux camion jaune')\n",
    "    print('Sample 2:')\n",
    "    print(' '.join([y_id_to_word[np.argmax(x)] for x in predictions[1]]))\n",
    "    print(' '.join([y_id_to_word[np.max(x)] for x in y[0]]))\n",
    "\n",
    "\n",
    "final_predictions(preproc_english_sentences, preproc_french_sentences, english_tokenizer, french_tokenizer)"
   ]
  },
  {
   "cell_type": "markdown",
   "metadata": {},
   "source": [
    "## Submission\n",
    "When you're ready to submit, complete the following steps:\n",
    "1. Review the [rubric](https://review.udacity.com/#!/rubrics/1004/view) to ensure your submission meets all requirements to pass\n",
    "2. Generate an HTML version of this notebook\n",
    "\n",
    "  - Run the next cell to attempt automatic generation (this is the recommended method in Workspaces)\n",
    "  - Navigate to **FILE -> Download as -> HTML (.html)**\n",
    "  - Manually generate a copy using `nbconvert` from your shell terminal\n",
    "```\n",
    "$ pip install nbconvert\n",
    "$ python -m nbconvert machine_translation.ipynb\n",
    "```\n",
    "  \n",
    "3. Submit the project\n",
    "\n",
    "  - If you are in a Workspace, simply click the \"Submit Project\" button (bottom towards the right)\n",
    "  \n",
    "  - Otherwise, add the following files into a zip archive and submit them \n",
    "  - `helper.py`\n",
    "  - `machine_translation.ipynb`\n",
    "  - `machine_translation.html`\n",
    "    - You can export the notebook by navigating to **File -> Download as -> HTML (.html)**."
   ]
  },
  {
   "cell_type": "markdown",
   "metadata": {},
   "source": [
    "### Generate the html\n",
    "\n",
    "**Save your notebook before running the next cell to generate the HTML output.** Then submit your project."
   ]
  },
  {
   "cell_type": "code",
   "execution_count": 37,
   "metadata": {},
   "outputs": [
    {
     "data": {
      "text/plain": [
       "['[NbConvertApp] Converting notebook machine_translation.ipynb to html',\n",
       " '[NbConvertApp] Writing 401087 bytes to machine_translation.html',\n",
       " '[NbConvertApp] Converting notebook machine_translation-zh.ipynb to html',\n",
       " '[NbConvertApp] Writing 328614 bytes to machine_translation-zh.html']"
      ]
     },
     "execution_count": 37,
     "metadata": {},
     "output_type": "execute_result"
    }
   ],
   "source": [
    "# Save before you run this cell!\n",
    "!!jupyter nbconvert *.ipynb"
   ]
  },
  {
   "cell_type": "markdown",
   "metadata": {},
   "source": [
    "## Optional Enhancements\n",
    "\n",
    "This project focuses on learning various network architectures for machine translation, but we don't evaluate the models according to best practices by splitting the data into separate test & training sets -- so the model accuracy is overstated. Use the [`sklearn.model_selection.train_test_split()`](http://scikit-learn.org/stable/modules/generated/sklearn.model_selection.train_test_split.html) function to create separate training & test datasets, then retrain each of the models using only the training set and evaluate the prediction accuracy using the hold out test set. Does the \"best\" model change?"
   ]
  }
 ],
 "metadata": {
  "kernelspec": {
   "display_name": "Python 3",
   "language": "python",
   "name": "python3"
  },
  "language_info": {
   "codemirror_mode": {
    "name": "ipython",
    "version": 3
   },
   "file_extension": ".py",
   "mimetype": "text/x-python",
   "name": "python",
   "nbconvert_exporter": "python",
   "pygments_lexer": "ipython3",
   "version": "3.6.3"
  }
 },
 "nbformat": 4,
 "nbformat_minor": 1
}
